{
 "cells": [
  {
   "cell_type": "code",
   "id": "initial_id",
   "metadata": {
    "collapsed": true,
    "ExecuteTime": {
     "end_time": "2025-01-17T03:24:24.972176Z",
     "start_time": "2025-01-17T03:24:23.383454Z"
    }
   },
   "source": [
    "import numpy as np\n",
    "import pandas as pd\n",
    "import toad"
   ],
   "outputs": [],
   "execution_count": 1
  },
  {
   "metadata": {
    "ExecuteTime": {
     "end_time": "2025-01-17T03:25:30.519850Z",
     "start_time": "2025-01-17T03:25:30.485622Z"
    }
   },
   "cell_type": "code",
   "source": "data = pd.read_csv('./data/germancredit.csv')",
   "id": "9876fb5077e78d7c",
   "outputs": [],
   "execution_count": 2
  },
  {
   "metadata": {
    "ExecuteTime": {
     "end_time": "2025-01-17T03:25:39.637517Z",
     "start_time": "2025-01-17T03:25:39.600400Z"
    }
   },
   "cell_type": "code",
   "source": "data.head()",
   "id": "1b0f91629c0cc2fd",
   "outputs": [
    {
     "data": {
      "text/plain": [
       "  status.of.existing.checking.account  duration.in.month  \\\n",
       "0                          ... < 0 DM                  6   \n",
       "1                   0 <= ... < 200 DM                 48   \n",
       "2                 no checking account                 12   \n",
       "3                          ... < 0 DM                 42   \n",
       "4                          ... < 0 DM                 24   \n",
       "\n",
       "                                      credit.history              purpose  \\\n",
       "0  critical account/ other credits existing (not ...     radio/television   \n",
       "1           existing credits paid back duly till now     radio/television   \n",
       "2  critical account/ other credits existing (not ...            education   \n",
       "3           existing credits paid back duly till now  furniture/equipment   \n",
       "4                    delay in paying off in the past            car (new)   \n",
       "\n",
       "   credit.amount    savings.account.and.bonds present.employment.since  \\\n",
       "0           1169  unknown/ no savings account           ... >= 7 years   \n",
       "1           5951                 ... < 100 DM       1 <= ... < 4 years   \n",
       "2           2096                 ... < 100 DM       4 <= ... < 7 years   \n",
       "3           7882                 ... < 100 DM       4 <= ... < 7 years   \n",
       "4           4870                 ... < 100 DM       1 <= ... < 4 years   \n",
       "\n",
       "   installment.rate.in.percentage.of.disposable.income  \\\n",
       "0                                                  4     \n",
       "1                                                  2     \n",
       "2                                                  2     \n",
       "3                                                  2     \n",
       "4                                                  3     \n",
       "\n",
       "               personal.status.and.sex other.debtors.or.guarantors  ...  \\\n",
       "0                        male : single                        none  ...   \n",
       "1  female : divorced/separated/married                        none  ...   \n",
       "2                        male : single                        none  ...   \n",
       "3                        male : single                   guarantor  ...   \n",
       "4                        male : single                        none  ...   \n",
       "\n",
       "                                            property age.in.years  \\\n",
       "0                                        real estate           67   \n",
       "1                                        real estate           22   \n",
       "2                                        real estate           49   \n",
       "3  building society savings agreement/ life insur...           45   \n",
       "4                              unknown / no property           53   \n",
       "\n",
       "   other.installment.plans   housing number.of.existing.credits.at.this.bank  \\\n",
       "0                     none       own                                       2   \n",
       "1                     none       own                                       1   \n",
       "2                     none       own                                       1   \n",
       "3                     none  for free                                       1   \n",
       "4                     none  for free                                       2   \n",
       "\n",
       "                           job  \\\n",
       "0  skilled employee / official   \n",
       "1  skilled employee / official   \n",
       "2         unskilled - resident   \n",
       "3  skilled employee / official   \n",
       "4  skilled employee / official   \n",
       "\n",
       "  number.of.people.being.liable.to.provide.maintenance.for  \\\n",
       "0                                                  1         \n",
       "1                                                  1         \n",
       "2                                                  2         \n",
       "3                                                  2         \n",
       "4                                                  2         \n",
       "\n",
       "                                  telephone foreign.worker creditability  \n",
       "0  yes, registered under the customers name            yes          good  \n",
       "1                                      none            yes           bad  \n",
       "2                                      none            yes          good  \n",
       "3                                      none            yes          good  \n",
       "4                                      none            yes           bad  \n",
       "\n",
       "[5 rows x 21 columns]"
      ],
      "text/html": [
       "<div>\n",
       "<style scoped>\n",
       "    .dataframe tbody tr th:only-of-type {\n",
       "        vertical-align: middle;\n",
       "    }\n",
       "\n",
       "    .dataframe tbody tr th {\n",
       "        vertical-align: top;\n",
       "    }\n",
       "\n",
       "    .dataframe thead th {\n",
       "        text-align: right;\n",
       "    }\n",
       "</style>\n",
       "<table border=\"1\" class=\"dataframe\">\n",
       "  <thead>\n",
       "    <tr style=\"text-align: right;\">\n",
       "      <th></th>\n",
       "      <th>status.of.existing.checking.account</th>\n",
       "      <th>duration.in.month</th>\n",
       "      <th>credit.history</th>\n",
       "      <th>purpose</th>\n",
       "      <th>credit.amount</th>\n",
       "      <th>savings.account.and.bonds</th>\n",
       "      <th>present.employment.since</th>\n",
       "      <th>installment.rate.in.percentage.of.disposable.income</th>\n",
       "      <th>personal.status.and.sex</th>\n",
       "      <th>other.debtors.or.guarantors</th>\n",
       "      <th>...</th>\n",
       "      <th>property</th>\n",
       "      <th>age.in.years</th>\n",
       "      <th>other.installment.plans</th>\n",
       "      <th>housing</th>\n",
       "      <th>number.of.existing.credits.at.this.bank</th>\n",
       "      <th>job</th>\n",
       "      <th>number.of.people.being.liable.to.provide.maintenance.for</th>\n",
       "      <th>telephone</th>\n",
       "      <th>foreign.worker</th>\n",
       "      <th>creditability</th>\n",
       "    </tr>\n",
       "  </thead>\n",
       "  <tbody>\n",
       "    <tr>\n",
       "      <th>0</th>\n",
       "      <td>... &lt; 0 DM</td>\n",
       "      <td>6</td>\n",
       "      <td>critical account/ other credits existing (not ...</td>\n",
       "      <td>radio/television</td>\n",
       "      <td>1169</td>\n",
       "      <td>unknown/ no savings account</td>\n",
       "      <td>... &gt;= 7 years</td>\n",
       "      <td>4</td>\n",
       "      <td>male : single</td>\n",
       "      <td>none</td>\n",
       "      <td>...</td>\n",
       "      <td>real estate</td>\n",
       "      <td>67</td>\n",
       "      <td>none</td>\n",
       "      <td>own</td>\n",
       "      <td>2</td>\n",
       "      <td>skilled employee / official</td>\n",
       "      <td>1</td>\n",
       "      <td>yes, registered under the customers name</td>\n",
       "      <td>yes</td>\n",
       "      <td>good</td>\n",
       "    </tr>\n",
       "    <tr>\n",
       "      <th>1</th>\n",
       "      <td>0 &lt;= ... &lt; 200 DM</td>\n",
       "      <td>48</td>\n",
       "      <td>existing credits paid back duly till now</td>\n",
       "      <td>radio/television</td>\n",
       "      <td>5951</td>\n",
       "      <td>... &lt; 100 DM</td>\n",
       "      <td>1 &lt;= ... &lt; 4 years</td>\n",
       "      <td>2</td>\n",
       "      <td>female : divorced/separated/married</td>\n",
       "      <td>none</td>\n",
       "      <td>...</td>\n",
       "      <td>real estate</td>\n",
       "      <td>22</td>\n",
       "      <td>none</td>\n",
       "      <td>own</td>\n",
       "      <td>1</td>\n",
       "      <td>skilled employee / official</td>\n",
       "      <td>1</td>\n",
       "      <td>none</td>\n",
       "      <td>yes</td>\n",
       "      <td>bad</td>\n",
       "    </tr>\n",
       "    <tr>\n",
       "      <th>2</th>\n",
       "      <td>no checking account</td>\n",
       "      <td>12</td>\n",
       "      <td>critical account/ other credits existing (not ...</td>\n",
       "      <td>education</td>\n",
       "      <td>2096</td>\n",
       "      <td>... &lt; 100 DM</td>\n",
       "      <td>4 &lt;= ... &lt; 7 years</td>\n",
       "      <td>2</td>\n",
       "      <td>male : single</td>\n",
       "      <td>none</td>\n",
       "      <td>...</td>\n",
       "      <td>real estate</td>\n",
       "      <td>49</td>\n",
       "      <td>none</td>\n",
       "      <td>own</td>\n",
       "      <td>1</td>\n",
       "      <td>unskilled - resident</td>\n",
       "      <td>2</td>\n",
       "      <td>none</td>\n",
       "      <td>yes</td>\n",
       "      <td>good</td>\n",
       "    </tr>\n",
       "    <tr>\n",
       "      <th>3</th>\n",
       "      <td>... &lt; 0 DM</td>\n",
       "      <td>42</td>\n",
       "      <td>existing credits paid back duly till now</td>\n",
       "      <td>furniture/equipment</td>\n",
       "      <td>7882</td>\n",
       "      <td>... &lt; 100 DM</td>\n",
       "      <td>4 &lt;= ... &lt; 7 years</td>\n",
       "      <td>2</td>\n",
       "      <td>male : single</td>\n",
       "      <td>guarantor</td>\n",
       "      <td>...</td>\n",
       "      <td>building society savings agreement/ life insur...</td>\n",
       "      <td>45</td>\n",
       "      <td>none</td>\n",
       "      <td>for free</td>\n",
       "      <td>1</td>\n",
       "      <td>skilled employee / official</td>\n",
       "      <td>2</td>\n",
       "      <td>none</td>\n",
       "      <td>yes</td>\n",
       "      <td>good</td>\n",
       "    </tr>\n",
       "    <tr>\n",
       "      <th>4</th>\n",
       "      <td>... &lt; 0 DM</td>\n",
       "      <td>24</td>\n",
       "      <td>delay in paying off in the past</td>\n",
       "      <td>car (new)</td>\n",
       "      <td>4870</td>\n",
       "      <td>... &lt; 100 DM</td>\n",
       "      <td>1 &lt;= ... &lt; 4 years</td>\n",
       "      <td>3</td>\n",
       "      <td>male : single</td>\n",
       "      <td>none</td>\n",
       "      <td>...</td>\n",
       "      <td>unknown / no property</td>\n",
       "      <td>53</td>\n",
       "      <td>none</td>\n",
       "      <td>for free</td>\n",
       "      <td>2</td>\n",
       "      <td>skilled employee / official</td>\n",
       "      <td>2</td>\n",
       "      <td>none</td>\n",
       "      <td>yes</td>\n",
       "      <td>bad</td>\n",
       "    </tr>\n",
       "  </tbody>\n",
       "</table>\n",
       "<p>5 rows × 21 columns</p>\n",
       "</div>"
      ]
     },
     "execution_count": 3,
     "metadata": {},
     "output_type": "execute_result"
    }
   ],
   "execution_count": 3
  },
  {
   "metadata": {
    "ExecuteTime": {
     "end_time": "2025-01-17T03:25:59.490101Z",
     "start_time": "2025-01-17T03:25:59.457469Z"
    }
   },
   "cell_type": "code",
   "source": "data.info()",
   "id": "824c5ec2e5b4f8d8",
   "outputs": [
    {
     "name": "stdout",
     "output_type": "stream",
     "text": [
      "<class 'pandas.core.frame.DataFrame'>\n",
      "RangeIndex: 1000 entries, 0 to 999\n",
      "Data columns (total 21 columns):\n",
      " #   Column                                                    Non-Null Count  Dtype \n",
      "---  ------                                                    --------------  ----- \n",
      " 0   status.of.existing.checking.account                       1000 non-null   object\n",
      " 1   duration.in.month                                         1000 non-null   int64 \n",
      " 2   credit.history                                            1000 non-null   object\n",
      " 3   purpose                                                   1000 non-null   object\n",
      " 4   credit.amount                                             1000 non-null   int64 \n",
      " 5   savings.account.and.bonds                                 1000 non-null   object\n",
      " 6   present.employment.since                                  1000 non-null   object\n",
      " 7   installment.rate.in.percentage.of.disposable.income       1000 non-null   int64 \n",
      " 8   personal.status.and.sex                                   1000 non-null   object\n",
      " 9   other.debtors.or.guarantors                               1000 non-null   object\n",
      " 10  present.residence.since                                   1000 non-null   int64 \n",
      " 11  property                                                  1000 non-null   object\n",
      " 12  age.in.years                                              1000 non-null   int64 \n",
      " 13  other.installment.plans                                   1000 non-null   object\n",
      " 14  housing                                                   1000 non-null   object\n",
      " 15  number.of.existing.credits.at.this.bank                   1000 non-null   int64 \n",
      " 16  job                                                       1000 non-null   object\n",
      " 17  number.of.people.being.liable.to.provide.maintenance.for  1000 non-null   int64 \n",
      " 18  telephone                                                 1000 non-null   object\n",
      " 19  foreign.worker                                            1000 non-null   object\n",
      " 20  creditability                                             1000 non-null   object\n",
      "dtypes: int64(7), object(14)\n",
      "memory usage: 164.2+ KB\n"
     ]
    }
   ],
   "execution_count": 4
  },
  {
   "metadata": {
    "ExecuteTime": {
     "end_time": "2025-01-17T03:26:24.733840Z",
     "start_time": "2025-01-17T03:26:24.697983Z"
    }
   },
   "cell_type": "code",
   "source": "data.describe()\n",
   "id": "a0acdac2652f51a5",
   "outputs": [
    {
     "data": {
      "text/plain": [
       "       duration.in.month  credit.amount  \\\n",
       "count        1000.000000    1000.000000   \n",
       "mean           20.903000    3271.258000   \n",
       "std            12.058814    2822.736876   \n",
       "min             4.000000     250.000000   \n",
       "25%            12.000000    1365.500000   \n",
       "50%            18.000000    2319.500000   \n",
       "75%            24.000000    3972.250000   \n",
       "max            72.000000   18424.000000   \n",
       "\n",
       "       installment.rate.in.percentage.of.disposable.income  \\\n",
       "count                                        1000.000000     \n",
       "mean                                            2.973000     \n",
       "std                                             1.118715     \n",
       "min                                             1.000000     \n",
       "25%                                             2.000000     \n",
       "50%                                             3.000000     \n",
       "75%                                             4.000000     \n",
       "max                                             4.000000     \n",
       "\n",
       "       present.residence.since  age.in.years  \\\n",
       "count              1000.000000   1000.000000   \n",
       "mean                  2.845000     35.546000   \n",
       "std                   1.103718     11.375469   \n",
       "min                   1.000000     19.000000   \n",
       "25%                   2.000000     27.000000   \n",
       "50%                   3.000000     33.000000   \n",
       "75%                   4.000000     42.000000   \n",
       "max                   4.000000     75.000000   \n",
       "\n",
       "       number.of.existing.credits.at.this.bank  \\\n",
       "count                              1000.000000   \n",
       "mean                                  1.407000   \n",
       "std                                   0.577654   \n",
       "min                                   1.000000   \n",
       "25%                                   1.000000   \n",
       "50%                                   1.000000   \n",
       "75%                                   2.000000   \n",
       "max                                   4.000000   \n",
       "\n",
       "       number.of.people.being.liable.to.provide.maintenance.for  \n",
       "count                                        1000.000000         \n",
       "mean                                            1.155000         \n",
       "std                                             0.362086         \n",
       "min                                             1.000000         \n",
       "25%                                             1.000000         \n",
       "50%                                             1.000000         \n",
       "75%                                             1.000000         \n",
       "max                                             2.000000         "
      ],
      "text/html": [
       "<div>\n",
       "<style scoped>\n",
       "    .dataframe tbody tr th:only-of-type {\n",
       "        vertical-align: middle;\n",
       "    }\n",
       "\n",
       "    .dataframe tbody tr th {\n",
       "        vertical-align: top;\n",
       "    }\n",
       "\n",
       "    .dataframe thead th {\n",
       "        text-align: right;\n",
       "    }\n",
       "</style>\n",
       "<table border=\"1\" class=\"dataframe\">\n",
       "  <thead>\n",
       "    <tr style=\"text-align: right;\">\n",
       "      <th></th>\n",
       "      <th>duration.in.month</th>\n",
       "      <th>credit.amount</th>\n",
       "      <th>installment.rate.in.percentage.of.disposable.income</th>\n",
       "      <th>present.residence.since</th>\n",
       "      <th>age.in.years</th>\n",
       "      <th>number.of.existing.credits.at.this.bank</th>\n",
       "      <th>number.of.people.being.liable.to.provide.maintenance.for</th>\n",
       "    </tr>\n",
       "  </thead>\n",
       "  <tbody>\n",
       "    <tr>\n",
       "      <th>count</th>\n",
       "      <td>1000.000000</td>\n",
       "      <td>1000.000000</td>\n",
       "      <td>1000.000000</td>\n",
       "      <td>1000.000000</td>\n",
       "      <td>1000.000000</td>\n",
       "      <td>1000.000000</td>\n",
       "      <td>1000.000000</td>\n",
       "    </tr>\n",
       "    <tr>\n",
       "      <th>mean</th>\n",
       "      <td>20.903000</td>\n",
       "      <td>3271.258000</td>\n",
       "      <td>2.973000</td>\n",
       "      <td>2.845000</td>\n",
       "      <td>35.546000</td>\n",
       "      <td>1.407000</td>\n",
       "      <td>1.155000</td>\n",
       "    </tr>\n",
       "    <tr>\n",
       "      <th>std</th>\n",
       "      <td>12.058814</td>\n",
       "      <td>2822.736876</td>\n",
       "      <td>1.118715</td>\n",
       "      <td>1.103718</td>\n",
       "      <td>11.375469</td>\n",
       "      <td>0.577654</td>\n",
       "      <td>0.362086</td>\n",
       "    </tr>\n",
       "    <tr>\n",
       "      <th>min</th>\n",
       "      <td>4.000000</td>\n",
       "      <td>250.000000</td>\n",
       "      <td>1.000000</td>\n",
       "      <td>1.000000</td>\n",
       "      <td>19.000000</td>\n",
       "      <td>1.000000</td>\n",
       "      <td>1.000000</td>\n",
       "    </tr>\n",
       "    <tr>\n",
       "      <th>25%</th>\n",
       "      <td>12.000000</td>\n",
       "      <td>1365.500000</td>\n",
       "      <td>2.000000</td>\n",
       "      <td>2.000000</td>\n",
       "      <td>27.000000</td>\n",
       "      <td>1.000000</td>\n",
       "      <td>1.000000</td>\n",
       "    </tr>\n",
       "    <tr>\n",
       "      <th>50%</th>\n",
       "      <td>18.000000</td>\n",
       "      <td>2319.500000</td>\n",
       "      <td>3.000000</td>\n",
       "      <td>3.000000</td>\n",
       "      <td>33.000000</td>\n",
       "      <td>1.000000</td>\n",
       "      <td>1.000000</td>\n",
       "    </tr>\n",
       "    <tr>\n",
       "      <th>75%</th>\n",
       "      <td>24.000000</td>\n",
       "      <td>3972.250000</td>\n",
       "      <td>4.000000</td>\n",
       "      <td>4.000000</td>\n",
       "      <td>42.000000</td>\n",
       "      <td>2.000000</td>\n",
       "      <td>1.000000</td>\n",
       "    </tr>\n",
       "    <tr>\n",
       "      <th>max</th>\n",
       "      <td>72.000000</td>\n",
       "      <td>18424.000000</td>\n",
       "      <td>4.000000</td>\n",
       "      <td>4.000000</td>\n",
       "      <td>75.000000</td>\n",
       "      <td>4.000000</td>\n",
       "      <td>2.000000</td>\n",
       "    </tr>\n",
       "  </tbody>\n",
       "</table>\n",
       "</div>"
      ]
     },
     "execution_count": 5,
     "metadata": {},
     "output_type": "execute_result"
    }
   ],
   "execution_count": 5
  },
  {
   "metadata": {
    "ExecuteTime": {
     "end_time": "2025-01-17T03:29:16.792444Z",
     "start_time": "2025-01-17T03:29:16.769203Z"
    }
   },
   "cell_type": "code",
   "source": "data.columns",
   "id": "d96e3a7805a98363",
   "outputs": [
    {
     "data": {
      "text/plain": [
       "Index(['status.of.existing.checking.account', 'duration.in.month',\n",
       "       'credit.history', 'purpose', 'credit.amount',\n",
       "       'savings.account.and.bonds', 'present.employment.since',\n",
       "       'installment.rate.in.percentage.of.disposable.income',\n",
       "       'personal.status.and.sex', 'other.debtors.or.guarantors',\n",
       "       'present.residence.since', 'property', 'age.in.years',\n",
       "       'other.installment.plans', 'housing',\n",
       "       'number.of.existing.credits.at.this.bank', 'job',\n",
       "       'number.of.people.being.liable.to.provide.maintenance.for', 'telephone',\n",
       "       'foreign.worker', 'creditability'],\n",
       "      dtype='object')"
      ]
     },
     "execution_count": 8,
     "metadata": {},
     "output_type": "execute_result"
    }
   ],
   "execution_count": 8
  },
  {
   "metadata": {
    "ExecuteTime": {
     "end_time": "2025-01-17T03:28:22.344784Z",
     "start_time": "2025-01-17T03:28:22.337031Z"
    }
   },
   "cell_type": "code",
   "source": "combiner = toad.transform.Combiner()",
   "id": "20cc5b4710ed5eab",
   "outputs": [],
   "execution_count": 7
  },
  {
   "metadata": {
    "ExecuteTime": {
     "end_time": "2025-01-17T03:32:59.874592Z",
     "start_time": "2025-01-17T03:32:59.863551Z"
    }
   },
   "cell_type": "code",
   "source": "data['creditability'].replace({'good':0,'bad':1},inplace=True)",
   "id": "9f3127ded01c54a0",
   "outputs": [],
   "execution_count": 10
  },
  {
   "metadata": {
    "ExecuteTime": {
     "end_time": "2025-01-17T03:33:00.979787Z",
     "start_time": "2025-01-17T03:33:00.837340Z"
    }
   },
   "cell_type": "code",
   "source": "combiner.fit(data,y='creditability',method='chi',min_samples=0.05)",
   "id": "63293537a49162ba",
   "outputs": [
    {
     "data": {
      "text/plain": [
       "<toad.transform.Combiner at 0x25b7f4463d0>"
      ]
     },
     "execution_count": 11,
     "metadata": {},
     "output_type": "execute_result"
    }
   ],
   "execution_count": 11
  },
  {
   "metadata": {
    "ExecuteTime": {
     "end_time": "2025-01-17T03:34:39.776383Z",
     "start_time": "2025-01-17T03:34:39.758675Z"
    }
   },
   "cell_type": "code",
   "source": "data['duration.in.month'].value_counts()",
   "id": "ad1fa0af9b866eb4",
   "outputs": [
    {
     "data": {
      "text/plain": [
       "duration.in.month\n",
       "24    184\n",
       "12    179\n",
       "18    113\n",
       "36     83\n",
       "6      75\n",
       "15     64\n",
       "9      49\n",
       "48     48\n",
       "30     40\n",
       "21     30\n",
       "10     28\n",
       "60     13\n",
       "27     13\n",
       "42     11\n",
       "11      9\n",
       "20      8\n",
       "8       7\n",
       "4       6\n",
       "45      5\n",
       "7       5\n",
       "39      5\n",
       "14      4\n",
       "13      4\n",
       "33      3\n",
       "28      3\n",
       "54      2\n",
       "16      2\n",
       "22      2\n",
       "47      1\n",
       "5       1\n",
       "26      1\n",
       "72      1\n",
       "40      1\n",
       "Name: count, dtype: int64"
      ]
     },
     "execution_count": 13,
     "metadata": {},
     "output_type": "execute_result"
    }
   ],
   "execution_count": 13
  },
  {
   "metadata": {
    "ExecuteTime": {
     "end_time": "2025-01-17T03:35:32.384453Z",
     "start_time": "2025-01-17T03:35:32.371173Z"
    }
   },
   "cell_type": "code",
   "source": "combiner.export()['duration.in.month']",
   "id": "6e6dfa2e4af6c5ac",
   "outputs": [
    {
     "data": {
      "text/plain": [
       "[9, 12, 13, 16, 36, 45]"
      ]
     },
     "execution_count": 14,
     "metadata": {},
     "output_type": "execute_result"
    }
   ],
   "execution_count": 14
  },
  {
   "metadata": {
    "ExecuteTime": {
     "end_time": "2025-01-17T03:38:57.628040Z",
     "start_time": "2025-01-17T03:38:56.626399Z"
    }
   },
   "cell_type": "code",
   "source": [
    "import matplotlib.pyplot as plt\n",
    "from toad.plot import bin_plot\n",
    "c2 = toad.transform.Combiner()\n",
    "c2.fit(data[['creditability','duration.in.month']],y='creditability',method='chi',n_bins=7)\n",
    "transformed = c2.transform(data[['creditability','duration.in.month']],labels=True)"
   ],
   "id": "7f5530c286aa8adf",
   "outputs": [],
   "execution_count": 15
  },
  {
   "metadata": {
    "ExecuteTime": {
     "end_time": "2025-01-17T03:39:46.175045Z",
     "start_time": "2025-01-17T03:39:46.157447Z"
    }
   },
   "cell_type": "code",
   "source": "transformed['duration.in.month'].value_counts()",
   "id": "fe2d4947d246888d",
   "outputs": [
    {
     "data": {
      "text/plain": [
       "duration.in.month\n",
       "04.[16 ~ 36)     399\n",
       "02.[12 ~ 13)     179\n",
       "05.[36 ~ 45)     100\n",
       "00.[-inf ~ 9)     94\n",
       "01.[9 ~ 12)       86\n",
       "03.[13 ~ 16)      72\n",
       "06.[45 ~ inf)     70\n",
       "Name: count, dtype: int64"
      ]
     },
     "execution_count": 18,
     "metadata": {},
     "output_type": "execute_result"
    }
   ],
   "execution_count": 18
  },
  {
   "metadata": {
    "ExecuteTime": {
     "end_time": "2025-01-17T03:40:48.571920Z",
     "start_time": "2025-01-17T03:40:47.925552Z"
    }
   },
   "cell_type": "code",
   "source": "bin_plot(transformed,x='duration.in.month',target='creditability')",
   "id": "8e36020456bbd1b3",
   "outputs": [
    {
     "data": {
      "text/plain": [
       "<Axes: xlabel='duration.in.month', ylabel='prop'>"
      ]
     },
     "execution_count": 19,
     "metadata": {},
     "output_type": "execute_result"
    },
    {
     "data": {
      "text/plain": [
       "<Figure size 1200x600 with 2 Axes>"
      ],
      "image/png": "[encoded data removed]"
     },
     "metadata": {},
     "output_type": "display_data"
    }
   ],
   "execution_count": 19
  },
  {
   "metadata": {
    "ExecuteTime": {
     "end_time": "2025-01-17T03:42:01.124211Z",
     "start_time": "2025-01-17T03:42:00.526583Z"
    }
   },
   "cell_type": "code",
   "source": [
    "c2 = toad.transform.Combiner()\n",
    "c2.fit(data[['creditability','duration.in.month']],y='creditability',method='chi',n_bins=5)\n",
    "transformed = c2.transform(data[['creditability','duration.in.month']],labels=True)\n",
    "bin_plot(transformed,x='duration.in.month',target='creditability')"
   ],
   "id": "5d4090440dd14b99",
   "outputs": [
    {
     "data": {
      "text/plain": [
       "<Axes: xlabel='duration.in.month', ylabel='prop'>"
      ]
     },
     "execution_count": 20,
     "metadata": {},
     "output_type": "execute_result"
    },
    {
     "data": {
      "text/plain": [
       "<Figure size 1200x600 with 2 Axes>"
      ],
      "image/png": "[encoded data removed]"
     },
     "metadata": {},
     "output_type": "display_data"
    }
   ],
   "execution_count": 20
  },
  {
   "metadata": {
    "ExecuteTime": {
     "end_time": "2025-01-17T04:06:01.846982Z",
     "start_time": "2025-01-17T04:06:01.832927Z"
    }
   },
   "cell_type": "code",
   "source": [
    "from sklearn.model_selection import train_test_split\n",
    "x_train ,x_test,y_train,y_test = train_test_split(data.drop('creditability',axis=1),data['creditability'],test_size=0.25,random_state=450)"
   ],
   "id": "5fa900493d852e08",
   "outputs": [],
   "execution_count": 21
  },
  {
   "metadata": {
    "ExecuteTime": {
     "end_time": "2025-01-17T04:07:55.997434Z",
     "start_time": "2025-01-17T04:07:55.982651Z"
    }
   },
   "cell_type": "code",
   "source": [
    "data_train = pd.concat([x_train,y_train],axis=1)\n",
    "data_train['type'] = 'train'\n",
    "\n",
    "data_test = pd.concat([x_test,y_test],axis=1)\n",
    "data_test['type'] = 'test'"
   ],
   "id": "e2e58b28a21561c2",
   "outputs": [],
   "execution_count": 22
  },
  {
   "metadata": {
    "ExecuteTime": {
     "end_time": "2025-01-17T04:10:43.264335Z",
     "start_time": "2025-01-17T04:10:43.241285Z"
    }
   },
   "cell_type": "code",
   "source": [
    "adj_bin = {'duration.in.month':[9,12,18,33]}\n",
    "c1 = toad.transform.Combiner()\n",
    "c1.set_rules(adj_bin)"
   ],
   "id": "22ae495cf558f8f0",
   "outputs": [
    {
     "data": {
      "text/plain": [
       "<toad.transform.Combiner at 0x25b239d01c0>"
      ]
     },
     "execution_count": 24,
     "metadata": {},
     "output_type": "execute_result"
    }
   ],
   "execution_count": 24
  },
  {
   "metadata": {
    "ExecuteTime": {
     "end_time": "2025-01-17T04:12:53.631737Z",
     "start_time": "2025-01-17T04:12:53.603224Z"
    }
   },
   "cell_type": "code",
   "source": [
    "data_ = pd.concat([data_train,data_test])\n",
    "temp_data = c1.transform(data_[['duration.in.month','creditability','type']])\n"
   ],
   "id": "e5a819e8b3757bd3",
   "outputs": [],
   "execution_count": 25
  },
  {
   "metadata": {
    "ExecuteTime": {
     "end_time": "2025-01-17T04:14:20.974571Z",
     "start_time": "2025-01-17T04:14:20.656744Z"
    }
   },
   "cell_type": "code",
   "source": [
    "from toad.plot import badrate_plot,proportion_plot\n",
    "badrate_plot(temp_data,target='creditability',x='type',by='duration.in.month')"
   ],
   "id": "2a1c57b401e675d3",
   "outputs": [
    {
     "data": {
      "text/plain": [
       "<Axes: xlabel='type', ylabel='badrate'>"
      ]
     },
     "execution_count": 26,
     "metadata": {},
     "output_type": "execute_result"
    },
    {
     "data": {
      "text/plain": [
       "<Figure size 1200x600 with 1 Axes>"
      ],
      "image/png": "[encoded data removed]"
     },
     "metadata": {},
     "output_type": "display_data"
    }
   ],
   "execution_count": 26
  },
  {
   "metadata": {
    "ExecuteTime": {
     "end_time": "2025-01-17T04:15:01.655518Z",
     "start_time": "2025-01-17T04:15:01.343571Z"
    }
   },
   "cell_type": "code",
   "source": "proportion_plot(temp_data['duration.in.month'])",
   "id": "f4456d1ca9792f0c",
   "outputs": [
    {
     "data": {
      "text/plain": [
       "<Axes: xlabel='value', ylabel='proportion'>"
      ]
     },
     "execution_count": 27,
     "metadata": {},
     "output_type": "execute_result"
    },
    {
     "data": {
      "text/plain": [
       "<Figure size 1200x600 with 1 Axes>"
      ],
      "image/png": "[encoded data removed]"
     },
     "metadata": {},
     "output_type": "display_data"
    }
   ],
   "execution_count": 27
  },
  {
   "metadata": {
    "ExecuteTime": {
     "end_time": "2025-01-17T04:16:28.493404Z",
     "start_time": "2025-01-17T04:16:28.205748Z"
    }
   },
   "cell_type": "code",
   "source": [
    "adj_bin = {'duration.in.month':[9,18,33]}\n",
    "c1 = toad.transform.Combiner()\n",
    "c1.set_rules(adj_bin)\n",
    "data_ = pd.concat([data_train,data_test])\n",
    "temp_data = c1.transform(data_[['duration.in.month','creditability','type']])\n",
    "badrate_plot(temp_data,target='creditability',x='type',by='duration.in.month')"
   ],
   "id": "2f4eb52bf180ff98",
   "outputs": [
    {
     "data": {
      "text/plain": [
       "<Axes: xlabel='type', ylabel='badrate'>"
      ]
     },
     "execution_count": 28,
     "metadata": {},
     "output_type": "execute_result"
    },
    {
     "data": {
      "text/plain": [
       "<Figure size 1200x600 with 1 Axes>"
      ],
      "image/png": "[encoded data removed]"
     },
     "metadata": {},
     "output_type": "display_data"
    }
   ],
   "execution_count": 28
  },
  {
   "metadata": {
    "ExecuteTime": {
     "end_time": "2025-01-17T04:20:32.182806Z",
     "start_time": "2025-01-17T04:20:31.558Z"
    }
   },
   "cell_type": "code",
   "source": [
    "binned_data = c1.transform(data_train)\n",
    "transer = toad.transform.WOETransformer()\n",
    "data_train_woe = transer.fit_transform(binned_data,binned_data['creditability'],exclude = ['creditability','type'])"
   ],
   "id": "65f6866b7211ffb5",
   "outputs": [],
   "execution_count": 29
  },
  {
   "metadata": {
    "ExecuteTime": {
     "end_time": "2025-01-17T04:20:49.229720Z",
     "start_time": "2025-01-17T04:20:49.209087Z"
    }
   },
   "cell_type": "code",
   "source": "data_train_woe['duration.in.month'].value_counts()",
   "id": "483f4ca7bcbe94b",
   "outputs": [
    {
     "data": {
      "text/plain": [
       "duration.in.month\n",
       " 0.099812    290\n",
       "-0.279729    255\n",
       " 0.786622    125\n",
       "-1.230824     80\n",
       "Name: count, dtype: int64"
      ]
     },
     "execution_count": 30,
     "metadata": {},
     "output_type": "execute_result"
    }
   ],
   "execution_count": 30
  },
  {
   "metadata": {
    "ExecuteTime": {
     "end_time": "2025-01-17T04:21:39.887293Z",
     "start_time": "2025-01-17T04:21:39.879049Z"
    }
   },
   "cell_type": "code",
   "source": "binned_data_test = c1.transform(data_test)",
   "id": "d9312566adc16401",
   "outputs": [],
   "execution_count": 31
  },
  {
   "metadata": {
    "ExecuteTime": {
     "end_time": "2025-01-17T04:21:59.733932Z",
     "start_time": "2025-01-17T04:21:59.680770Z"
    }
   },
   "cell_type": "code",
   "source": "transer.transform(binned_data_test)",
   "id": "b34cb92d0de560a5",
   "outputs": [
    {
     "data": {
      "text/plain": [
       "     status.of.existing.checking.account  duration.in.month  credit.history  \\\n",
       "643                            -1.072960           0.099812       -0.615085   \n",
       "17                              0.786313           0.099812        1.327108   \n",
       "150                            -1.072960          -1.230824        0.046896   \n",
       "111                            -0.446302          -0.279729        0.046896   \n",
       "467                            -1.072960           0.786622        0.215592   \n",
       "..                                   ...                ...             ...   \n",
       "803                            -1.072960          -0.279729       -0.615085   \n",
       "601                             0.363027          -0.279729        0.046896   \n",
       "666                             0.363027           0.099812        0.997150   \n",
       "989                             0.363027           0.099812       -0.615085   \n",
       "152                            -0.446302           0.786622        0.046896   \n",
       "\n",
       "      purpose  credit.amount  savings.account.and.bonds  \\\n",
       "643 -0.384125      -0.263981                   0.244802   \n",
       "17   0.246845      -0.263981                  -0.939428   \n",
       "150 -0.384125      -0.263981                   0.344009   \n",
       "111  0.623322      -0.263981                   0.244802   \n",
       "467 -0.384125      -0.263981                  -0.939428   \n",
       "..        ...            ...                        ...   \n",
       "803 -0.384125       0.834631                  -0.939428   \n",
       "601  0.141484      -0.263981                   0.244802   \n",
       "666  0.141484      -0.263981                  -0.839345   \n",
       "989 -0.384125       0.834631                   0.244802   \n",
       "152 -0.384125      -0.263981                   0.244802   \n",
       "\n",
       "     present.employment.since  \\\n",
       "643                 -0.477555   \n",
       "17                   0.399313   \n",
       "150                 -0.173326   \n",
       "111                  0.399313   \n",
       "467                 -0.173326   \n",
       "..                        ...   \n",
       "803                 -0.173326   \n",
       "601                  0.002898   \n",
       "666                  0.002898   \n",
       "989                 -0.173326   \n",
       "152                  0.002898   \n",
       "\n",
       "     installment.rate.in.percentage.of.disposable.income  \\\n",
       "643                                           0.154169     \n",
       "17                                           -0.153980     \n",
       "150                                          -0.153980     \n",
       "111                                           0.154169     \n",
       "467                                          -0.056341     \n",
       "..                                                 ...     \n",
       "803                                           0.154169     \n",
       "601                                           0.154169     \n",
       "666                                           0.154169     \n",
       "989                                           0.154169     \n",
       "152                                           0.154169     \n",
       "\n",
       "     personal.status.and.sex  other.debtors.or.guarantors  ...  age.in.years  \\\n",
       "643                -0.302447                    -0.807596  ...      0.611488   \n",
       "17                 -0.212356                    -0.014765  ...      0.760523   \n",
       "150                -0.212356                    -0.014765  ...      0.429166   \n",
       "111                 0.355058                    -0.014765  ...      0.777473   \n",
       "467                -0.212356                    -0.014765  ...     -0.263981   \n",
       "..                       ...                          ...  ...           ...   \n",
       "803                -0.212356                    -0.014765  ...     -1.244810   \n",
       "601                 0.355058                    -0.014765  ...     -0.146198   \n",
       "666                -0.212356                    -0.014765  ...      0.141484   \n",
       "989                -0.212356                    -0.014765  ...     -0.418132   \n",
       "152                -0.212356                    -0.014765  ...      0.429166   \n",
       "\n",
       "     other.installment.plans   housing  \\\n",
       "643                -0.157497 -0.174441   \n",
       "17                  0.563756 -0.174441   \n",
       "150                 0.563756  0.323806   \n",
       "111                -0.157497  0.441143   \n",
       "467                 0.563756 -0.174441   \n",
       "..                       ...       ...   \n",
       "803                -0.157497 -0.174441   \n",
       "601                -0.157497 -0.174441   \n",
       "666                 0.723406 -0.174441   \n",
       "989                -0.157497 -0.174441   \n",
       "152                -0.157497 -0.174441   \n",
       "\n",
       "     number.of.existing.credits.at.this.bank       job  \\\n",
       "643                                -0.053488  0.002648   \n",
       "17                                 -0.012666  0.002648   \n",
       "150                                 0.039485  0.002648   \n",
       "111                                 0.039485  0.002648   \n",
       "467                                -0.053488  0.002648   \n",
       "..                                       ...       ...   \n",
       "803                                -0.053488  0.002648   \n",
       "601                                 0.039485  0.002648   \n",
       "666                                 0.039485  0.002648   \n",
       "989                                -0.053488 -0.298467   \n",
       "152                                 0.039485  0.002648   \n",
       "\n",
       "     number.of.people.being.liable.to.provide.maintenance.for  telephone  \\\n",
       "643                                           0.012822          0.001722   \n",
       "17                                            0.012822         -0.001130   \n",
       "150                                          -0.069825          0.001722   \n",
       "111                                           0.012822          0.001722   \n",
       "467                                          -0.069825         -0.001130   \n",
       "..                                                 ...               ...   \n",
       "803                                           0.012822         -0.001130   \n",
       "601                                           0.012822         -0.001130   \n",
       "666                                          -0.069825          0.001722   \n",
       "989                                           0.012822         -0.001130   \n",
       "152                                           0.012822         -0.001130   \n",
       "\n",
       "     foreign.worker  creditability  type  \n",
       "643        0.043742              0  test  \n",
       "17         0.043742              0  test  \n",
       "150        0.043742              0  test  \n",
       "111        0.043742              0  test  \n",
       "467        0.043742              0  test  \n",
       "..              ...            ...   ...  \n",
       "803        0.043742              0  test  \n",
       "601        0.043742              1  test  \n",
       "666        0.043742              0  test  \n",
       "989        0.043742              0  test  \n",
       "152        0.043742              0  test  \n",
       "\n",
       "[250 rows x 22 columns]"
      ],
      "text/html": [
       "<div>\n",
       "<style scoped>\n",
       "    .dataframe tbody tr th:only-of-type {\n",
       "        vertical-align: middle;\n",
       "    }\n",
       "\n",
       "    .dataframe tbody tr th {\n",
       "        vertical-align: top;\n",
       "    }\n",
       "\n",
       "    .dataframe thead th {\n",
       "        text-align: right;\n",
       "    }\n",
       "</style>\n",
       "<table border=\"1\" class=\"dataframe\">\n",
       "  <thead>\n",
       "    <tr style=\"text-align: right;\">\n",
       "      <th></th>\n",
       "      <th>status.of.existing.checking.account</th>\n",
       "      <th>duration.in.month</th>\n",
       "      <th>credit.history</th>\n",
       "      <th>purpose</th>\n",
       "      <th>credit.amount</th>\n",
       "      <th>savings.account.and.bonds</th>\n",
       "      <th>present.employment.since</th>\n",
       "      <th>installment.rate.in.percentage.of.disposable.income</th>\n",
       "      <th>personal.status.and.sex</th>\n",
       "      <th>other.debtors.or.guarantors</th>\n",
       "      <th>...</th>\n",
       "      <th>age.in.years</th>\n",
       "      <th>other.installment.plans</th>\n",
       "      <th>housing</th>\n",
       "      <th>number.of.existing.credits.at.this.bank</th>\n",
       "      <th>job</th>\n",
       "      <th>number.of.people.being.liable.to.provide.maintenance.for</th>\n",
       "      <th>telephone</th>\n",
       "      <th>foreign.worker</th>\n",
       "      <th>creditability</th>\n",
       "      <th>type</th>\n",
       "    </tr>\n",
       "  </thead>\n",
       "  <tbody>\n",
       "    <tr>\n",
       "      <th>643</th>\n",
       "      <td>-1.072960</td>\n",
       "      <td>0.099812</td>\n",
       "      <td>-0.615085</td>\n",
       "      <td>-0.384125</td>\n",
       "      <td>-0.263981</td>\n",
       "      <td>0.244802</td>\n",
       "      <td>-0.477555</td>\n",
       "      <td>0.154169</td>\n",
       "      <td>-0.302447</td>\n",
       "      <td>-0.807596</td>\n",
       "      <td>...</td>\n",
       "      <td>0.611488</td>\n",
       "      <td>-0.157497</td>\n",
       "      <td>-0.174441</td>\n",
       "      <td>-0.053488</td>\n",
       "      <td>0.002648</td>\n",
       "      <td>0.012822</td>\n",
       "      <td>0.001722</td>\n",
       "      <td>0.043742</td>\n",
       "      <td>0</td>\n",
       "      <td>test</td>\n",
       "    </tr>\n",
       "    <tr>\n",
       "      <th>17</th>\n",
       "      <td>0.786313</td>\n",
       "      <td>0.099812</td>\n",
       "      <td>1.327108</td>\n",
       "      <td>0.246845</td>\n",
       "      <td>-0.263981</td>\n",
       "      <td>-0.939428</td>\n",
       "      <td>0.399313</td>\n",
       "      <td>-0.153980</td>\n",
       "      <td>-0.212356</td>\n",
       "      <td>-0.014765</td>\n",
       "      <td>...</td>\n",
       "      <td>0.760523</td>\n",
       "      <td>0.563756</td>\n",
       "      <td>-0.174441</td>\n",
       "      <td>-0.012666</td>\n",
       "      <td>0.002648</td>\n",
       "      <td>0.012822</td>\n",
       "      <td>-0.001130</td>\n",
       "      <td>0.043742</td>\n",
       "      <td>0</td>\n",
       "      <td>test</td>\n",
       "    </tr>\n",
       "    <tr>\n",
       "      <th>150</th>\n",
       "      <td>-1.072960</td>\n",
       "      <td>-1.230824</td>\n",
       "      <td>0.046896</td>\n",
       "      <td>-0.384125</td>\n",
       "      <td>-0.263981</td>\n",
       "      <td>0.344009</td>\n",
       "      <td>-0.173326</td>\n",
       "      <td>-0.153980</td>\n",
       "      <td>-0.212356</td>\n",
       "      <td>-0.014765</td>\n",
       "      <td>...</td>\n",
       "      <td>0.429166</td>\n",
       "      <td>0.563756</td>\n",
       "      <td>0.323806</td>\n",
       "      <td>0.039485</td>\n",
       "      <td>0.002648</td>\n",
       "      <td>-0.069825</td>\n",
       "      <td>0.001722</td>\n",
       "      <td>0.043742</td>\n",
       "      <td>0</td>\n",
       "      <td>test</td>\n",
       "    </tr>\n",
       "    <tr>\n",
       "      <th>111</th>\n",
       "      <td>-0.446302</td>\n",
       "      <td>-0.279729</td>\n",
       "      <td>0.046896</td>\n",
       "      <td>0.623322</td>\n",
       "      <td>-0.263981</td>\n",
       "      <td>0.244802</td>\n",
       "      <td>0.399313</td>\n",
       "      <td>0.154169</td>\n",
       "      <td>0.355058</td>\n",
       "      <td>-0.014765</td>\n",
       "      <td>...</td>\n",
       "      <td>0.777473</td>\n",
       "      <td>-0.157497</td>\n",
       "      <td>0.441143</td>\n",
       "      <td>0.039485</td>\n",
       "      <td>0.002648</td>\n",
       "      <td>0.012822</td>\n",
       "      <td>0.001722</td>\n",
       "      <td>0.043742</td>\n",
       "      <td>0</td>\n",
       "      <td>test</td>\n",
       "    </tr>\n",
       "    <tr>\n",
       "      <th>467</th>\n",
       "      <td>-1.072960</td>\n",
       "      <td>0.786622</td>\n",
       "      <td>0.215592</td>\n",
       "      <td>-0.384125</td>\n",
       "      <td>-0.263981</td>\n",
       "      <td>-0.939428</td>\n",
       "      <td>-0.173326</td>\n",
       "      <td>-0.056341</td>\n",
       "      <td>-0.212356</td>\n",
       "      <td>-0.014765</td>\n",
       "      <td>...</td>\n",
       "      <td>-0.263981</td>\n",
       "      <td>0.563756</td>\n",
       "      <td>-0.174441</td>\n",
       "      <td>-0.053488</td>\n",
       "      <td>0.002648</td>\n",
       "      <td>-0.069825</td>\n",
       "      <td>-0.001130</td>\n",
       "      <td>0.043742</td>\n",
       "      <td>0</td>\n",
       "      <td>test</td>\n",
       "    </tr>\n",
       "    <tr>\n",
       "      <th>...</th>\n",
       "      <td>...</td>\n",
       "      <td>...</td>\n",
       "      <td>...</td>\n",
       "      <td>...</td>\n",
       "      <td>...</td>\n",
       "      <td>...</td>\n",
       "      <td>...</td>\n",
       "      <td>...</td>\n",
       "      <td>...</td>\n",
       "      <td>...</td>\n",
       "      <td>...</td>\n",
       "      <td>...</td>\n",
       "      <td>...</td>\n",
       "      <td>...</td>\n",
       "      <td>...</td>\n",
       "      <td>...</td>\n",
       "      <td>...</td>\n",
       "      <td>...</td>\n",
       "      <td>...</td>\n",
       "      <td>...</td>\n",
       "      <td>...</td>\n",
       "    </tr>\n",
       "    <tr>\n",
       "      <th>803</th>\n",
       "      <td>-1.072960</td>\n",
       "      <td>-0.279729</td>\n",
       "      <td>-0.615085</td>\n",
       "      <td>-0.384125</td>\n",
       "      <td>0.834631</td>\n",
       "      <td>-0.939428</td>\n",
       "      <td>-0.173326</td>\n",
       "      <td>0.154169</td>\n",
       "      <td>-0.212356</td>\n",
       "      <td>-0.014765</td>\n",
       "      <td>...</td>\n",
       "      <td>-1.244810</td>\n",
       "      <td>-0.157497</td>\n",
       "      <td>-0.174441</td>\n",
       "      <td>-0.053488</td>\n",
       "      <td>0.002648</td>\n",
       "      <td>0.012822</td>\n",
       "      <td>-0.001130</td>\n",
       "      <td>0.043742</td>\n",
       "      <td>0</td>\n",
       "      <td>test</td>\n",
       "    </tr>\n",
       "    <tr>\n",
       "      <th>601</th>\n",
       "      <td>0.363027</td>\n",
       "      <td>-0.279729</td>\n",
       "      <td>0.046896</td>\n",
       "      <td>0.141484</td>\n",
       "      <td>-0.263981</td>\n",
       "      <td>0.244802</td>\n",
       "      <td>0.002898</td>\n",
       "      <td>0.154169</td>\n",
       "      <td>0.355058</td>\n",
       "      <td>-0.014765</td>\n",
       "      <td>...</td>\n",
       "      <td>-0.146198</td>\n",
       "      <td>-0.157497</td>\n",
       "      <td>-0.174441</td>\n",
       "      <td>0.039485</td>\n",
       "      <td>0.002648</td>\n",
       "      <td>0.012822</td>\n",
       "      <td>-0.001130</td>\n",
       "      <td>0.043742</td>\n",
       "      <td>1</td>\n",
       "      <td>test</td>\n",
       "    </tr>\n",
       "    <tr>\n",
       "      <th>666</th>\n",
       "      <td>0.363027</td>\n",
       "      <td>0.099812</td>\n",
       "      <td>0.997150</td>\n",
       "      <td>0.141484</td>\n",
       "      <td>-0.263981</td>\n",
       "      <td>-0.839345</td>\n",
       "      <td>0.002898</td>\n",
       "      <td>0.154169</td>\n",
       "      <td>-0.212356</td>\n",
       "      <td>-0.014765</td>\n",
       "      <td>...</td>\n",
       "      <td>0.141484</td>\n",
       "      <td>0.723406</td>\n",
       "      <td>-0.174441</td>\n",
       "      <td>0.039485</td>\n",
       "      <td>0.002648</td>\n",
       "      <td>-0.069825</td>\n",
       "      <td>0.001722</td>\n",
       "      <td>0.043742</td>\n",
       "      <td>0</td>\n",
       "      <td>test</td>\n",
       "    </tr>\n",
       "    <tr>\n",
       "      <th>989</th>\n",
       "      <td>0.363027</td>\n",
       "      <td>0.099812</td>\n",
       "      <td>-0.615085</td>\n",
       "      <td>-0.384125</td>\n",
       "      <td>0.834631</td>\n",
       "      <td>0.244802</td>\n",
       "      <td>-0.173326</td>\n",
       "      <td>0.154169</td>\n",
       "      <td>-0.212356</td>\n",
       "      <td>-0.014765</td>\n",
       "      <td>...</td>\n",
       "      <td>-0.418132</td>\n",
       "      <td>-0.157497</td>\n",
       "      <td>-0.174441</td>\n",
       "      <td>-0.053488</td>\n",
       "      <td>-0.298467</td>\n",
       "      <td>0.012822</td>\n",
       "      <td>-0.001130</td>\n",
       "      <td>0.043742</td>\n",
       "      <td>0</td>\n",
       "      <td>test</td>\n",
       "    </tr>\n",
       "    <tr>\n",
       "      <th>152</th>\n",
       "      <td>-0.446302</td>\n",
       "      <td>0.786622</td>\n",
       "      <td>0.046896</td>\n",
       "      <td>-0.384125</td>\n",
       "      <td>-0.263981</td>\n",
       "      <td>0.244802</td>\n",
       "      <td>0.002898</td>\n",
       "      <td>0.154169</td>\n",
       "      <td>-0.212356</td>\n",
       "      <td>-0.014765</td>\n",
       "      <td>...</td>\n",
       "      <td>0.429166</td>\n",
       "      <td>-0.157497</td>\n",
       "      <td>-0.174441</td>\n",
       "      <td>0.039485</td>\n",
       "      <td>0.002648</td>\n",
       "      <td>0.012822</td>\n",
       "      <td>-0.001130</td>\n",
       "      <td>0.043742</td>\n",
       "      <td>0</td>\n",
       "      <td>test</td>\n",
       "    </tr>\n",
       "  </tbody>\n",
       "</table>\n",
       "<p>250 rows × 22 columns</p>\n",
       "</div>"
      ]
     },
     "execution_count": 32,
     "metadata": {},
     "output_type": "execute_result"
    }
   ],
   "execution_count": 32
  },
  {
   "metadata": {},
   "cell_type": "code",
   "outputs": [],
   "execution_count": null,
   "source": "",
   "id": "ab6070c122164a4d"
  }
 ],
 "metadata": {
  "kernelspec": {
   "display_name": "Python 3",
   "language": "python",
   "name": "python3"
  },
  "language_info": {
   "codemirror_mode": {
    "name": "ipython",
    "version": 2
   },
   "file_extension": ".py",
   "mimetype": "text/x-python",
   "name": "python",
   "nbconvert_exporter": "python",
   "pygments_lexer": "ipython2",
   "version": "2.7.6"
  }
 },
 "nbformat": 4,
 "nbformat_minor": 5
}
