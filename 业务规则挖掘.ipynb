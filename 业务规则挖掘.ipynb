{
 "cells": [
  {
   "cell_type": "code",
   "id": "initial_id",
   "metadata": {
    "collapsed": true,
    "ExecuteTime": {
     "end_time": "2025-01-15T03:46:06.825651Z",
     "start_time": "2025-01-15T03:45:52.314078Z"
    }
   },
   "source": [
    "import pandas as pd\n",
    "import numpy as np\n",
    "from transformers.models.fsmt.convert_fsmt_original_pytorch_checkpoint_to_pytorch import org_names\n",
    "\n",
    "data = pd.read_excel('./data/rule_data.xlsx')"
   ],
   "outputs": [],
   "execution_count": 1
  },
  {
   "metadata": {
    "ExecuteTime": {
     "end_time": "2025-01-15T03:46:37.920005Z",
     "start_time": "2025-01-15T03:46:37.887120Z"
    }
   },
   "cell_type": "code",
   "source": "data.info()",
   "id": "6527797d528f5a39",
   "outputs": [
    {
     "name": "stdout",
     "output_type": "stream",
     "text": [
      "<class 'pandas.core.frame.DataFrame'>\n",
      "RangeIndex: 50609 entries, 0 to 50608\n",
      "Data columns (total 19 columns):\n",
      " #   Column                 Non-Null Count  Dtype         \n",
      "---  ------                 --------------  -----         \n",
      " 0   uid                    50609 non-null  object        \n",
      " 1   oil_actv_dt            50609 non-null  datetime64[ns]\n",
      " 2   create_dt              45665 non-null  datetime64[ns]\n",
      " 3   total_oil_cnt          46426 non-null  float64       \n",
      " 4   pay_amount_total       46426 non-null  float64       \n",
      " 5   class_new              50609 non-null  object        \n",
      " 6   bad_ind                50609 non-null  int64         \n",
      " 7   oil_amount             45665 non-null  float64       \n",
      " 8   discount_amount        45665 non-null  float64       \n",
      " 9   sale_amount            45665 non-null  float64       \n",
      " 10  amount                 45665 non-null  float64       \n",
      " 11  pay_amount             45665 non-null  float64       \n",
      " 12  coupon_amount          45665 non-null  float64       \n",
      " 13  payment_coupon_amount  45663 non-null  float64       \n",
      " 14  channel_code           50609 non-null  int64         \n",
      " 15  oil_code               50609 non-null  int64         \n",
      " 16  scene                  50609 non-null  int64         \n",
      " 17  source_app             50609 non-null  int64         \n",
      " 18  call_source            50609 non-null  int64         \n",
      "dtypes: datetime64[ns](2), float64(9), int64(6), object(2)\n",
      "memory usage: 7.3+ MB\n"
     ]
    }
   ],
   "execution_count": 2
  },
  {
   "metadata": {
    "ExecuteTime": {
     "end_time": "2025-01-15T03:47:21.154316Z",
     "start_time": "2025-01-15T03:47:21.020467Z"
    }
   },
   "cell_type": "code",
   "source": "data.describe()",
   "id": "6dd1b4eaa684389e",
   "outputs": [
    {
     "data": {
      "text/plain": [
       "                         oil_actv_dt                      create_dt  \\\n",
       "count                          50609                          45665   \n",
       "mean   2018-09-05 00:56:50.998043904  2018-06-09 01:47:56.452425472   \n",
       "min              2018-04-02 00:00:00            2017-05-16 00:00:00   \n",
       "25%              2018-08-12 00:00:00            2018-04-29 00:00:00   \n",
       "50%              2018-09-09 00:00:00            2018-06-23 00:00:00   \n",
       "75%              2018-09-30 00:00:00            2018-08-07 00:00:00   \n",
       "max              2018-10-31 00:00:00            2018-10-29 00:00:00   \n",
       "std                              NaN                            NaN   \n",
       "\n",
       "       total_oil_cnt  pay_amount_total       bad_ind    oil_amount  \\\n",
       "count   46426.000000      4.642600e+04  50609.000000  45665.000000   \n",
       "mean       47.010899      1.060658e+06      0.017764    425.376107   \n",
       "min         1.000000      1.000000e+00      0.000000      1.000000   \n",
       "25%        15.000000      2.093987e+05      0.000000    175.440000   \n",
       "50%        31.000000      5.136578e+05      0.000000    336.160000   \n",
       "75%        59.000000      1.110628e+06      0.000000    557.600000   \n",
       "max       487.000000      4.829550e+07      1.000000   7952.820000   \n",
       "std        54.441589      2.942513e+06      0.132093    400.596244   \n",
       "\n",
       "       discount_amount   sale_amount        amount    pay_amount  \\\n",
       "count     4.566500e+04  4.566500e+04  4.566500e+04  4.566500e+04   \n",
       "mean      1.832017e+05  1.881283e+05  1.808673e+05  9.043344e+05   \n",
       "min       0.000000e+00  0.000000e+00  1.000000e+00  5.000000e+00   \n",
       "25%       6.039100e+04  6.200100e+04  5.976100e+04  2.988010e+05   \n",
       "50%       1.229310e+05  1.279240e+05  1.209610e+05  6.048010e+05   \n",
       "75%       2.399050e+05  2.454010e+05  2.360790e+05  1.180391e+06   \n",
       "max       3.916081e+06  3.996001e+06  3.851081e+06  1.925540e+07   \n",
       "std       2.007574e+05  2.048742e+05  1.977035e+05  9.885168e+05   \n",
       "\n",
       "       coupon_amount  payment_coupon_amount  channel_code      oil_code  \\\n",
       "count   45665.000000           45663.000000  50609.000000  50609.000000   \n",
       "mean        0.576853             149.395397      1.476378      1.617894   \n",
       "min         0.000000               0.000000      0.000000      0.000000   \n",
       "25%         0.000000               1.000000      1.000000      0.000000   \n",
       "50%         1.000000               1.000000      1.000000      0.000000   \n",
       "75%         1.000000             100.000000      1.000000      0.000000   \n",
       "max         1.000000           50000.000000      6.000000      9.000000   \n",
       "std         0.494064             605.138823      1.511470      3.074166   \n",
       "\n",
       "              scene    source_app   call_source  \n",
       "count  50609.000000  50609.000000  50609.000000  \n",
       "mean       1.906519      0.306072      2.900729  \n",
       "min        0.000000      0.000000      0.000000  \n",
       "25%        2.000000      0.000000      3.000000  \n",
       "50%        2.000000      0.000000      3.000000  \n",
       "75%        2.000000      0.000000      3.000000  \n",
       "max        2.000000      3.000000      4.000000  \n",
       "std        0.367280      0.893682      0.726231  "
      ],
      "text/html": [
       "<div>\n",
       "<style scoped>\n",
       "    .dataframe tbody tr th:only-of-type {\n",
       "        vertical-align: middle;\n",
       "    }\n",
       "\n",
       "    .dataframe tbody tr th {\n",
       "        vertical-align: top;\n",
       "    }\n",
       "\n",
       "    .dataframe thead th {\n",
       "        text-align: right;\n",
       "    }\n",
       "</style>\n",
       "<table border=\"1\" class=\"dataframe\">\n",
       "  <thead>\n",
       "    <tr style=\"text-align: right;\">\n",
       "      <th></th>\n",
       "      <th>oil_actv_dt</th>\n",
       "      <th>create_dt</th>\n",
       "      <th>total_oil_cnt</th>\n",
       "      <th>pay_amount_total</th>\n",
       "      <th>bad_ind</th>\n",
       "      <th>oil_amount</th>\n",
       "      <th>discount_amount</th>\n",
       "      <th>sale_amount</th>\n",
       "      <th>amount</th>\n",
       "      <th>pay_amount</th>\n",
       "      <th>coupon_amount</th>\n",
       "      <th>payment_coupon_amount</th>\n",
       "      <th>channel_code</th>\n",
       "      <th>oil_code</th>\n",
       "      <th>scene</th>\n",
       "      <th>source_app</th>\n",
       "      <th>call_source</th>\n",
       "    </tr>\n",
       "  </thead>\n",
       "  <tbody>\n",
       "    <tr>\n",
       "      <th>count</th>\n",
       "      <td>50609</td>\n",
       "      <td>45665</td>\n",
       "      <td>46426.000000</td>\n",
       "      <td>4.642600e+04</td>\n",
       "      <td>50609.000000</td>\n",
       "      <td>45665.000000</td>\n",
       "      <td>4.566500e+04</td>\n",
       "      <td>4.566500e+04</td>\n",
       "      <td>4.566500e+04</td>\n",
       "      <td>4.566500e+04</td>\n",
       "      <td>45665.000000</td>\n",
       "      <td>45663.000000</td>\n",
       "      <td>50609.000000</td>\n",
       "      <td>50609.000000</td>\n",
       "      <td>50609.000000</td>\n",
       "      <td>50609.000000</td>\n",
       "      <td>50609.000000</td>\n",
       "    </tr>\n",
       "    <tr>\n",
       "      <th>mean</th>\n",
       "      <td>2018-09-05 00:56:50.998043904</td>\n",
       "      <td>2018-06-09 01:47:56.452425472</td>\n",
       "      <td>47.010899</td>\n",
       "      <td>1.060658e+06</td>\n",
       "      <td>0.017764</td>\n",
       "      <td>425.376107</td>\n",
       "      <td>1.832017e+05</td>\n",
       "      <td>1.881283e+05</td>\n",
       "      <td>1.808673e+05</td>\n",
       "      <td>9.043344e+05</td>\n",
       "      <td>0.576853</td>\n",
       "      <td>149.395397</td>\n",
       "      <td>1.476378</td>\n",
       "      <td>1.617894</td>\n",
       "      <td>1.906519</td>\n",
       "      <td>0.306072</td>\n",
       "      <td>2.900729</td>\n",
       "    </tr>\n",
       "    <tr>\n",
       "      <th>min</th>\n",
       "      <td>2018-04-02 00:00:00</td>\n",
       "      <td>2017-05-16 00:00:00</td>\n",
       "      <td>1.000000</td>\n",
       "      <td>1.000000e+00</td>\n",
       "      <td>0.000000</td>\n",
       "      <td>1.000000</td>\n",
       "      <td>0.000000e+00</td>\n",
       "      <td>0.000000e+00</td>\n",
       "      <td>1.000000e+00</td>\n",
       "      <td>5.000000e+00</td>\n",
       "      <td>0.000000</td>\n",
       "      <td>0.000000</td>\n",
       "      <td>0.000000</td>\n",
       "      <td>0.000000</td>\n",
       "      <td>0.000000</td>\n",
       "      <td>0.000000</td>\n",
       "      <td>0.000000</td>\n",
       "    </tr>\n",
       "    <tr>\n",
       "      <th>25%</th>\n",
       "      <td>2018-08-12 00:00:00</td>\n",
       "      <td>2018-04-29 00:00:00</td>\n",
       "      <td>15.000000</td>\n",
       "      <td>2.093987e+05</td>\n",
       "      <td>0.000000</td>\n",
       "      <td>175.440000</td>\n",
       "      <td>6.039100e+04</td>\n",
       "      <td>6.200100e+04</td>\n",
       "      <td>5.976100e+04</td>\n",
       "      <td>2.988010e+05</td>\n",
       "      <td>0.000000</td>\n",
       "      <td>1.000000</td>\n",
       "      <td>1.000000</td>\n",
       "      <td>0.000000</td>\n",
       "      <td>2.000000</td>\n",
       "      <td>0.000000</td>\n",
       "      <td>3.000000</td>\n",
       "    </tr>\n",
       "    <tr>\n",
       "      <th>50%</th>\n",
       "      <td>2018-09-09 00:00:00</td>\n",
       "      <td>2018-06-23 00:00:00</td>\n",
       "      <td>31.000000</td>\n",
       "      <td>5.136578e+05</td>\n",
       "      <td>0.000000</td>\n",
       "      <td>336.160000</td>\n",
       "      <td>1.229310e+05</td>\n",
       "      <td>1.279240e+05</td>\n",
       "      <td>1.209610e+05</td>\n",
       "      <td>6.048010e+05</td>\n",
       "      <td>1.000000</td>\n",
       "      <td>1.000000</td>\n",
       "      <td>1.000000</td>\n",
       "      <td>0.000000</td>\n",
       "      <td>2.000000</td>\n",
       "      <td>0.000000</td>\n",
       "      <td>3.000000</td>\n",
       "    </tr>\n",
       "    <tr>\n",
       "      <th>75%</th>\n",
       "      <td>2018-09-30 00:00:00</td>\n",
       "      <td>2018-08-07 00:00:00</td>\n",
       "      <td>59.000000</td>\n",
       "      <td>1.110628e+06</td>\n",
       "      <td>0.000000</td>\n",
       "      <td>557.600000</td>\n",
       "      <td>2.399050e+05</td>\n",
       "      <td>2.454010e+05</td>\n",
       "      <td>2.360790e+05</td>\n",
       "      <td>1.180391e+06</td>\n",
       "      <td>1.000000</td>\n",
       "      <td>100.000000</td>\n",
       "      <td>1.000000</td>\n",
       "      <td>0.000000</td>\n",
       "      <td>2.000000</td>\n",
       "      <td>0.000000</td>\n",
       "      <td>3.000000</td>\n",
       "    </tr>\n",
       "    <tr>\n",
       "      <th>max</th>\n",
       "      <td>2018-10-31 00:00:00</td>\n",
       "      <td>2018-10-29 00:00:00</td>\n",
       "      <td>487.000000</td>\n",
       "      <td>4.829550e+07</td>\n",
       "      <td>1.000000</td>\n",
       "      <td>7952.820000</td>\n",
       "      <td>3.916081e+06</td>\n",
       "      <td>3.996001e+06</td>\n",
       "      <td>3.851081e+06</td>\n",
       "      <td>1.925540e+07</td>\n",
       "      <td>1.000000</td>\n",
       "      <td>50000.000000</td>\n",
       "      <td>6.000000</td>\n",
       "      <td>9.000000</td>\n",
       "      <td>2.000000</td>\n",
       "      <td>3.000000</td>\n",
       "      <td>4.000000</td>\n",
       "    </tr>\n",
       "    <tr>\n",
       "      <th>std</th>\n",
       "      <td>NaN</td>\n",
       "      <td>NaN</td>\n",
       "      <td>54.441589</td>\n",
       "      <td>2.942513e+06</td>\n",
       "      <td>0.132093</td>\n",
       "      <td>400.596244</td>\n",
       "      <td>2.007574e+05</td>\n",
       "      <td>2.048742e+05</td>\n",
       "      <td>1.977035e+05</td>\n",
       "      <td>9.885168e+05</td>\n",
       "      <td>0.494064</td>\n",
       "      <td>605.138823</td>\n",
       "      <td>1.511470</td>\n",
       "      <td>3.074166</td>\n",
       "      <td>0.367280</td>\n",
       "      <td>0.893682</td>\n",
       "      <td>0.726231</td>\n",
       "    </tr>\n",
       "  </tbody>\n",
       "</table>\n",
       "</div>"
      ]
     },
     "execution_count": 3,
     "metadata": {},
     "output_type": "execute_result"
    }
   ],
   "execution_count": 3
  },
  {
   "metadata": {
    "ExecuteTime": {
     "end_time": "2025-01-15T03:47:55.956113Z",
     "start_time": "2025-01-15T03:47:55.940242Z"
    }
   },
   "cell_type": "code",
   "source": "data['class_new'].value_counts()",
   "id": "d9ef6d6ee20d8a3f",
   "outputs": [
    {
     "data": {
      "text/plain": [
       "class_new\n",
       "B    24765\n",
       "A     9767\n",
       "C     7679\n",
       "D     5288\n",
       "E     1944\n",
       "F     1166\n",
       "Name: count, dtype: int64"
      ]
     },
     "execution_count": 4,
     "metadata": {},
     "output_type": "execute_result"
    }
   ],
   "execution_count": 4
  },
  {
   "metadata": {
    "ExecuteTime": {
     "end_time": "2025-01-15T03:50:19.576899Z",
     "start_time": "2025-01-15T03:50:19.554756Z"
    }
   },
   "cell_type": "code",
   "source": "data['uid'].nunique()",
   "id": "768a4acb22d18a22",
   "outputs": [
    {
     "data": {
      "text/plain": [
       "11307"
      ]
     },
     "execution_count": 5,
     "metadata": {},
     "output_type": "execute_result"
    }
   ],
   "execution_count": 5
  },
  {
   "metadata": {
    "ExecuteTime": {
     "end_time": "2025-01-15T03:58:43.083749Z",
     "start_time": "2025-01-15T03:58:43.062836Z"
    }
   },
   "cell_type": "code",
   "source": "data.columns",
   "id": "3fa7be9698a22304",
   "outputs": [
    {
     "data": {
      "text/plain": [
       "Index(['uid', 'oil_actv_dt', 'create_dt', 'total_oil_cnt', 'pay_amount_total',\n",
       "       'class_new', 'bad_ind', 'oil_amount', 'discount_amount', 'sale_amount',\n",
       "       'amount', 'pay_amount', 'coupon_amount', 'payment_coupon_amount',\n",
       "       'channel_code', 'oil_code', 'scene', 'source_app', 'call_source'],\n",
       "      dtype='object')"
      ]
     },
     "execution_count": 7,
     "metadata": {},
     "output_type": "execute_result"
    }
   ],
   "execution_count": 7
  },
  {
   "metadata": {
    "ExecuteTime": {
     "end_time": "2025-01-15T04:03:49.671262Z",
     "start_time": "2025-01-15T04:03:49.660972Z"
    }
   },
   "cell_type": "code",
   "source": [
    "org_list = ['uid','create_dt','oil_actv_dt','class_new','bad_ind']\n",
    "agg_list = ['oil_amount','discount_amount','sale_amount','amount','pay_amount','coupon_amount','payment_coupon_amount']\n",
    "count_list = ['channel_code','oil_code','scene','source_app','call_source']"
   ],
   "id": "616df49ddd55984e",
   "outputs": [],
   "execution_count": 8
  },
  {
   "metadata": {
    "ExecuteTime": {
     "end_time": "2025-01-15T04:03:50.662268Z",
     "start_time": "2025-01-15T04:03:50.617578Z"
    }
   },
   "cell_type": "code",
   "source": [
    "df = data[org_list]\n",
    "df[agg_list] = data[agg_list]\n",
    "df[count_list] = data[count_list]"
   ],
   "id": "2da2a57bef203819",
   "outputs": [
    {
     "name": "stderr",
     "output_type": "stream",
     "text": [
      "C:\\Users\\46901\\AppData\\Local\\Temp\\ipykernel_19864\\505697610.py:2: SettingWithCopyWarning: \n",
      "A value is trying to be set on a copy of a slice from a DataFrame.\n",
      "Try using .loc[row_indexer,col_indexer] = value instead\n",
      "\n",
      "See the caveats in the documentation: https://pandas.pydata.org/pandas-docs/stable/user_guide/indexing.html#returning-a-view-versus-a-copy\n",
      "  df[agg_list] = data[agg_list]\n",
      "C:\\Users\\46901\\AppData\\Local\\Temp\\ipykernel_19864\\505697610.py:2: SettingWithCopyWarning: \n",
      "A value is trying to be set on a copy of a slice from a DataFrame.\n",
      "Try using .loc[row_indexer,col_indexer] = value instead\n",
      "\n",
      "See the caveats in the documentation: https://pandas.pydata.org/pandas-docs/stable/user_guide/indexing.html#returning-a-view-versus-a-copy\n",
      "  df[agg_list] = data[agg_list]\n",
      "C:\\Users\\46901\\AppData\\Local\\Temp\\ipykernel_19864\\505697610.py:2: SettingWithCopyWarning: \n",
      "A value is trying to be set on a copy of a slice from a DataFrame.\n",
      "Try using .loc[row_indexer,col_indexer] = value instead\n",
      "\n",
      "See the caveats in the documentation: https://pandas.pydata.org/pandas-docs/stable/user_guide/indexing.html#returning-a-view-versus-a-copy\n",
      "  df[agg_list] = data[agg_list]\n",
      "C:\\Users\\46901\\AppData\\Local\\Temp\\ipykernel_19864\\505697610.py:2: SettingWithCopyWarning: \n",
      "A value is trying to be set on a copy of a slice from a DataFrame.\n",
      "Try using .loc[row_indexer,col_indexer] = value instead\n",
      "\n",
      "See the caveats in the documentation: https://pandas.pydata.org/pandas-docs/stable/user_guide/indexing.html#returning-a-view-versus-a-copy\n",
      "  df[agg_list] = data[agg_list]\n",
      "C:\\Users\\46901\\AppData\\Local\\Temp\\ipykernel_19864\\505697610.py:2: SettingWithCopyWarning: \n",
      "A value is trying to be set on a copy of a slice from a DataFrame.\n",
      "Try using .loc[row_indexer,col_indexer] = value instead\n",
      "\n",
      "See the caveats in the documentation: https://pandas.pydata.org/pandas-docs/stable/user_guide/indexing.html#returning-a-view-versus-a-copy\n",
      "  df[agg_list] = data[agg_list]\n",
      "C:\\Users\\46901\\AppData\\Local\\Temp\\ipykernel_19864\\505697610.py:2: SettingWithCopyWarning: \n",
      "A value is trying to be set on a copy of a slice from a DataFrame.\n",
      "Try using .loc[row_indexer,col_indexer] = value instead\n",
      "\n",
      "See the caveats in the documentation: https://pandas.pydata.org/pandas-docs/stable/user_guide/indexing.html#returning-a-view-versus-a-copy\n",
      "  df[agg_list] = data[agg_list]\n",
      "C:\\Users\\46901\\AppData\\Local\\Temp\\ipykernel_19864\\505697610.py:2: SettingWithCopyWarning: \n",
      "A value is trying to be set on a copy of a slice from a DataFrame.\n",
      "Try using .loc[row_indexer,col_indexer] = value instead\n",
      "\n",
      "See the caveats in the documentation: https://pandas.pydata.org/pandas-docs/stable/user_guide/indexing.html#returning-a-view-versus-a-copy\n",
      "  df[agg_list] = data[agg_list]\n",
      "C:\\Users\\46901\\AppData\\Local\\Temp\\ipykernel_19864\\505697610.py:3: SettingWithCopyWarning: \n",
      "A value is trying to be set on a copy of a slice from a DataFrame.\n",
      "Try using .loc[row_indexer,col_indexer] = value instead\n",
      "\n",
      "See the caveats in the documentation: https://pandas.pydata.org/pandas-docs/stable/user_guide/indexing.html#returning-a-view-versus-a-copy\n",
      "  df[count_list] = data[count_list]\n",
      "C:\\Users\\46901\\AppData\\Local\\Temp\\ipykernel_19864\\505697610.py:3: SettingWithCopyWarning: \n",
      "A value is trying to be set on a copy of a slice from a DataFrame.\n",
      "Try using .loc[row_indexer,col_indexer] = value instead\n",
      "\n",
      "See the caveats in the documentation: https://pandas.pydata.org/pandas-docs/stable/user_guide/indexing.html#returning-a-view-versus-a-copy\n",
      "  df[count_list] = data[count_list]\n",
      "C:\\Users\\46901\\AppData\\Local\\Temp\\ipykernel_19864\\505697610.py:3: SettingWithCopyWarning: \n",
      "A value is trying to be set on a copy of a slice from a DataFrame.\n",
      "Try using .loc[row_indexer,col_indexer] = value instead\n",
      "\n",
      "See the caveats in the documentation: https://pandas.pydata.org/pandas-docs/stable/user_guide/indexing.html#returning-a-view-versus-a-copy\n",
      "  df[count_list] = data[count_list]\n",
      "C:\\Users\\46901\\AppData\\Local\\Temp\\ipykernel_19864\\505697610.py:3: SettingWithCopyWarning: \n",
      "A value is trying to be set on a copy of a slice from a DataFrame.\n",
      "Try using .loc[row_indexer,col_indexer] = value instead\n",
      "\n",
      "See the caveats in the documentation: https://pandas.pydata.org/pandas-docs/stable/user_guide/indexing.html#returning-a-view-versus-a-copy\n",
      "  df[count_list] = data[count_list]\n",
      "C:\\Users\\46901\\AppData\\Local\\Temp\\ipykernel_19864\\505697610.py:3: SettingWithCopyWarning: \n",
      "A value is trying to be set on a copy of a slice from a DataFrame.\n",
      "Try using .loc[row_indexer,col_indexer] = value instead\n",
      "\n",
      "See the caveats in the documentation: https://pandas.pydata.org/pandas-docs/stable/user_guide/indexing.html#returning-a-view-versus-a-copy\n",
      "  df[count_list] = data[count_list]\n"
     ]
    }
   ],
   "execution_count": 9
  },
  {
   "metadata": {
    "ExecuteTime": {
     "end_time": "2025-01-15T04:04:29.342509Z",
     "start_time": "2025-01-15T04:04:29.322546Z"
    }
   },
   "cell_type": "code",
   "source": "df.isna().sum()",
   "id": "602f6bfaaafabcec",
   "outputs": [
    {
     "data": {
      "text/plain": [
       "uid                         0\n",
       "create_dt                4944\n",
       "oil_actv_dt                 0\n",
       "class_new                   0\n",
       "bad_ind                     0\n",
       "oil_amount               4944\n",
       "discount_amount          4944\n",
       "sale_amount              4944\n",
       "amount                   4944\n",
       "pay_amount               4944\n",
       "coupon_amount            4944\n",
       "payment_coupon_amount    4946\n",
       "channel_code                0\n",
       "oil_code                    0\n",
       "scene                       0\n",
       "source_app                  0\n",
       "call_source                 0\n",
       "dtype: int64"
      ]
     },
     "execution_count": 10,
     "metadata": {},
     "output_type": "execute_result"
    }
   ],
   "execution_count": 10
  },
  {
   "metadata": {
    "ExecuteTime": {
     "end_time": "2025-01-15T04:05:21.218016Z",
     "start_time": "2025-01-15T04:05:21.197829Z"
    }
   },
   "cell_type": "code",
   "source": "df['create_dt']",
   "id": "2f2e58ac6bb60f05",
   "outputs": [
    {
     "data": {
      "text/plain": [
       "0       2018-08-17\n",
       "1       2018-08-16\n",
       "2       2018-08-15\n",
       "3       2018-08-14\n",
       "4       2018-08-13\n",
       "           ...    \n",
       "50604          NaT\n",
       "50605          NaT\n",
       "50606          NaT\n",
       "50607          NaT\n",
       "50608          NaT\n",
       "Name: create_dt, Length: 50609, dtype: datetime64[ns]"
      ]
     },
     "execution_count": 11,
     "metadata": {},
     "output_type": "execute_result"
    }
   ],
   "execution_count": 11
  },
  {
   "metadata": {
    "ExecuteTime": {
     "end_time": "2025-01-15T04:12:01.742064Z",
     "start_time": "2025-01-15T04:12:00.804918Z"
    }
   },
   "cell_type": "code",
   "source": [
    "def fill_timena(x,y):\n",
    "    if str(x) == 'NaT':\n",
    "        x = y\n",
    "    return x\n",
    "df2 = df.sort_values(['uid','create_dt'],ascending=False)\n",
    "df2['create_dt'] = df2.apply(lambda x: fill_timena(x['create_dt'],x['oil_actv_dt']), axis=1)        "
   ],
   "id": "ea4fbd2c55964bda",
   "outputs": [],
   "execution_count": 15
  },
  {
   "metadata": {
    "ExecuteTime": {
     "end_time": "2025-01-15T04:13:24.882940Z",
     "start_time": "2025-01-15T04:13:24.874338Z"
    }
   },
   "cell_type": "code",
   "source": "df2['dtn'] = (df2['oil_actv_dt'] - df2['create_dt']).dt.days",
   "id": "117674b858e5017d",
   "outputs": [],
   "execution_count": 18
  },
  {
   "metadata": {
    "ExecuteTime": {
     "end_time": "2025-01-15T04:14:00.591308Z",
     "start_time": "2025-01-15T04:14:00.550114Z"
    }
   },
   "cell_type": "code",
   "source": "df = df2[df2['dtn'] < 180]",
   "id": "c1583863fbb4043a",
   "outputs": [],
   "execution_count": 19
  },
  {
   "metadata": {
    "ExecuteTime": {
     "end_time": "2025-01-15T04:14:07.654912Z",
     "start_time": "2025-01-15T04:14:07.640613Z"
    }
   },
   "cell_type": "code",
   "source": "df.shape",
   "id": "219d46289a559b7b",
   "outputs": [
    {
     "data": {
      "text/plain": [
       "(45039, 18)"
      ]
     },
     "execution_count": 20,
     "metadata": {},
     "output_type": "execute_result"
    }
   ],
   "execution_count": 20
  },
  {
   "metadata": {
    "ExecuteTime": {
     "end_time": "2025-01-15T04:16:40.593028Z",
     "start_time": "2025-01-15T04:16:40.559143Z"
    }
   },
   "cell_type": "code",
   "source": "base = df[org_list].sort_values(['uid','create_dt'],ascending=False).drop_duplicates(['uid'],keep='first')",
   "id": "42ffe69c18f078fa",
   "outputs": [],
   "execution_count": 25
  },
  {
   "metadata": {
    "ExecuteTime": {
     "end_time": "2025-01-15T04:25:54.269273Z",
     "start_time": "2025-01-15T04:25:54.257419Z"
    }
   },
   "cell_type": "code",
   "source": [
    "gn = pd.DataFrame()\n",
    "# for i in agg_list:\n",
    "#     df.groupby('uid')[i].count()"
   ],
   "id": "ff36af45b0228147",
   "outputs": [],
   "execution_count": 30
  },
  {
   "metadata": {
    "ExecuteTime": {
     "end_time": "2025-01-15T04:23:08.062215Z",
     "start_time": "2025-01-15T04:23:08.038970Z"
    }
   },
   "cell_type": "code",
   "source": "tp = df.groupby('uid')['oil_amount'].count().reset_index()",
   "id": "73459b795aa0d6ce",
   "outputs": [],
   "execution_count": 27
  },
  {
   "metadata": {
    "ExecuteTime": {
     "end_time": "2025-01-15T04:25:57.754283Z",
     "start_time": "2025-01-15T04:25:57.742621Z"
    }
   },
   "cell_type": "code",
   "source": [
    "tp.columns = ['uid','oil_amount' + '_cnt']\n",
    "if gn.empty:\n",
    "    gn = tp\n",
    "else:\n",
    "    gn.merge(tp, on='uid', how='left') "
   ],
   "id": "4e3ae57ac26e693c",
   "outputs": [],
   "execution_count": 31
  },
  {
   "metadata": {
    "ExecuteTime": {
     "end_time": "2025-01-15T04:28:57.051897Z",
     "start_time": "2025-01-15T04:28:54.474526Z"
    }
   },
   "cell_type": "code",
   "source": [
    "tp = df.groupby('uid').apply(lambda df:np.where(df['oil_amount']>0,1,0).sum()).reset_index()\n",
    "tp.columns = ['uid','oil_amount' + '_num']\n",
    "if gn.empty:\n",
    "    gn = tp\n",
    "else:\n",
    "    gn = gn.merge(tp, on='uid', how='left') "
   ],
   "id": "daf1d867f95c4438",
   "outputs": [],
   "execution_count": 33
  },
  {
   "metadata": {
    "ExecuteTime": {
     "end_time": "2025-01-15T04:28:58.795146Z",
     "start_time": "2025-01-15T04:28:58.775486Z"
    }
   },
   "cell_type": "code",
   "source": "gn",
   "id": "129c28e984e195ad",
   "outputs": [
    {
     "data": {
      "text/plain": [
       "                      uid  oil_amount_cnt  oil_amount_num\n",
       "0               A10000481               1               1\n",
       "1                A1000232               3               3\n",
       "2                A1000455               0               0\n",
       "3               A10010042              15              15\n",
       "4                A1001014               0               0\n",
       "...                   ...             ...             ...\n",
       "11094  B96436391972106043               0               0\n",
       "11095  B96436391976480892               0               0\n",
       "11096  B96436391977217468               0               0\n",
       "11097  B96436391984693397               0               0\n",
       "11098  B96436391985035703               0               0\n",
       "\n",
       "[11099 rows x 3 columns]"
      ],
      "text/html": [
       "<div>\n",
       "<style scoped>\n",
       "    .dataframe tbody tr th:only-of-type {\n",
       "        vertical-align: middle;\n",
       "    }\n",
       "\n",
       "    .dataframe tbody tr th {\n",
       "        vertical-align: top;\n",
       "    }\n",
       "\n",
       "    .dataframe thead th {\n",
       "        text-align: right;\n",
       "    }\n",
       "</style>\n",
       "<table border=\"1\" class=\"dataframe\">\n",
       "  <thead>\n",
       "    <tr style=\"text-align: right;\">\n",
       "      <th></th>\n",
       "      <th>uid</th>\n",
       "      <th>oil_amount_cnt</th>\n",
       "      <th>oil_amount_num</th>\n",
       "    </tr>\n",
       "  </thead>\n",
       "  <tbody>\n",
       "    <tr>\n",
       "      <th>0</th>\n",
       "      <td>A10000481</td>\n",
       "      <td>1</td>\n",
       "      <td>1</td>\n",
       "    </tr>\n",
       "    <tr>\n",
       "      <th>1</th>\n",
       "      <td>A1000232</td>\n",
       "      <td>3</td>\n",
       "      <td>3</td>\n",
       "    </tr>\n",
       "    <tr>\n",
       "      <th>2</th>\n",
       "      <td>A1000455</td>\n",
       "      <td>0</td>\n",
       "      <td>0</td>\n",
       "    </tr>\n",
       "    <tr>\n",
       "      <th>3</th>\n",
       "      <td>A10010042</td>\n",
       "      <td>15</td>\n",
       "      <td>15</td>\n",
       "    </tr>\n",
       "    <tr>\n",
       "      <th>4</th>\n",
       "      <td>A1001014</td>\n",
       "      <td>0</td>\n",
       "      <td>0</td>\n",
       "    </tr>\n",
       "    <tr>\n",
       "      <th>...</th>\n",
       "      <td>...</td>\n",
       "      <td>...</td>\n",
       "      <td>...</td>\n",
       "    </tr>\n",
       "    <tr>\n",
       "      <th>11094</th>\n",
       "      <td>B96436391972106043</td>\n",
       "      <td>0</td>\n",
       "      <td>0</td>\n",
       "    </tr>\n",
       "    <tr>\n",
       "      <th>11095</th>\n",
       "      <td>B96436391976480892</td>\n",
       "      <td>0</td>\n",
       "      <td>0</td>\n",
       "    </tr>\n",
       "    <tr>\n",
       "      <th>11096</th>\n",
       "      <td>B96436391977217468</td>\n",
       "      <td>0</td>\n",
       "      <td>0</td>\n",
       "    </tr>\n",
       "    <tr>\n",
       "      <th>11097</th>\n",
       "      <td>B96436391984693397</td>\n",
       "      <td>0</td>\n",
       "      <td>0</td>\n",
       "    </tr>\n",
       "    <tr>\n",
       "      <th>11098</th>\n",
       "      <td>B96436391985035703</td>\n",
       "      <td>0</td>\n",
       "      <td>0</td>\n",
       "    </tr>\n",
       "  </tbody>\n",
       "</table>\n",
       "<p>11099 rows × 3 columns</p>\n",
       "</div>"
      ]
     },
     "execution_count": 34,
     "metadata": {},
     "output_type": "execute_result"
    }
   ],
   "execution_count": 34
  },
  {
   "metadata": {},
   "cell_type": "code",
   "outputs": [],
   "execution_count": null,
   "source": "",
   "id": "e20fe718ecc52467"
  }
 ],
 "metadata": {
  "kernelspec": {
   "display_name": "Python 3",
   "language": "python",
   "name": "python3"
  },
  "language_info": {
   "codemirror_mode": {
    "name": "ipython",
    "version": 2
   },
   "file_extension": ".py",
   "mimetype": "text/x-python",
   "name": "python",
   "nbconvert_exporter": "python",
   "pygments_lexer": "ipython2",
   "version": "2.7.6"
  }
 },
 "nbformat": 4,
 "nbformat_minor": 5
}
