{
 "cells": [
  {
   "cell_type": "code",
   "id": "initial_id",
   "metadata": {
    "collapsed": true,
    "ExecuteTime": {
     "end_time": "2025-01-13T05:49:00.913526Z",
     "start_time": "2025-01-13T05:48:59.275827Z"
    }
   },
   "source": [
    "import pandas as pd\n",
    "import datetime\n",
    "\n",
    "from pandas.conftest import axis_1\n",
    "from pyecharts.charts import *\n",
    "from pyecharts import options as opts\n",
    "df1 = pd.read_excel('./data/业务数据.xlsx')"
   ],
   "outputs": [],
   "execution_count": 5
  },
  {
   "metadata": {
    "ExecuteTime": {
     "end_time": "2025-01-13T05:49:42.813635Z",
     "start_time": "2025-01-13T05:49:42.775656Z"
    }
   },
   "cell_type": "code",
   "source": "df1.info()",
   "id": "1180d1f41159076f",
   "outputs": [
    {
     "name": "stdout",
     "output_type": "stream",
     "text": [
      "<class 'pandas.core.frame.DataFrame'>\n",
      "RangeIndex: 5257 entries, 0 to 5256\n",
      "Data columns (total 14 columns):\n",
      " #   Column  Non-Null Count  Dtype  \n",
      "---  ------  --------------  -----  \n",
      " 0   销售      5257 non-null   object \n",
      " 1   账单状态    5257 non-null   object \n",
      " 2   账单周期    5257 non-null   object \n",
      " 3   账单金额    5257 non-null   float64\n",
      " 4   开票金额    5010 non-null   float64\n",
      " 5   实收金额    4470 non-null   float64\n",
      " 6   未收金额    5010 non-null   float64\n",
      " 7   预计付款日   5256 non-null   object \n",
      " 8   应付日期    5257 non-null   object \n",
      " 9   商务催收日期  5257 non-null   object \n",
      " 10  账期      5257 non-null   int64  \n",
      " 11  实际到账日   4387 non-null   object \n",
      " 12  开票日期    4996 non-null   object \n",
      " 13  客服      5257 non-null   object \n",
      "dtypes: float64(4), int64(1), object(9)\n",
      "memory usage: 575.1+ KB\n"
     ]
    }
   ],
   "execution_count": 7
  },
  {
   "metadata": {
    "ExecuteTime": {
     "end_time": "2025-01-13T05:50:10.142474Z",
     "start_time": "2025-01-13T05:50:10.095492Z"
    }
   },
   "cell_type": "code",
   "source": "df1.describe()",
   "id": "3f338ae2dc9c0618",
   "outputs": [
    {
     "data": {
      "text/plain": [
       "               账单金额          开票金额          实收金额          未收金额           账期\n",
       "count  5.257000e+03  5.010000e+03  4.470000e+03  5.010000e+03  5257.000000\n",
       "mean   4.073241e+04  4.096896e+04  4.082419e+04  4.684636e+03    64.539661\n",
       "std    8.176172e+04  8.007245e+04  7.970628e+04  2.888464e+04    15.622765\n",
       "min    0.000000e+00  2.500000e+01  0.000000e+00  0.000000e+00     0.000000\n",
       "25%    5.103000e+03  5.300000e+03  5.112250e+03  0.000000e+00    60.000000\n",
       "50%    1.436500e+04  1.486560e+04  1.434000e+04  0.000000e+00    60.000000\n",
       "75%    4.178000e+04  4.220250e+04  4.170750e+04  0.000000e+00    75.000000\n",
       "max    1.508796e+06  1.356215e+06  1.301665e+06  1.277098e+06    90.000000"
      ],
      "text/html": [
       "<div>\n",
       "<style scoped>\n",
       "    .dataframe tbody tr th:only-of-type {\n",
       "        vertical-align: middle;\n",
       "    }\n",
       "\n",
       "    .dataframe tbody tr th {\n",
       "        vertical-align: top;\n",
       "    }\n",
       "\n",
       "    .dataframe thead th {\n",
       "        text-align: right;\n",
       "    }\n",
       "</style>\n",
       "<table border=\"1\" class=\"dataframe\">\n",
       "  <thead>\n",
       "    <tr style=\"text-align: right;\">\n",
       "      <th></th>\n",
       "      <th>账单金额</th>\n",
       "      <th>开票金额</th>\n",
       "      <th>实收金额</th>\n",
       "      <th>未收金额</th>\n",
       "      <th>账期</th>\n",
       "    </tr>\n",
       "  </thead>\n",
       "  <tbody>\n",
       "    <tr>\n",
       "      <th>count</th>\n",
       "      <td>5.257000e+03</td>\n",
       "      <td>5.010000e+03</td>\n",
       "      <td>4.470000e+03</td>\n",
       "      <td>5.010000e+03</td>\n",
       "      <td>5257.000000</td>\n",
       "    </tr>\n",
       "    <tr>\n",
       "      <th>mean</th>\n",
       "      <td>4.073241e+04</td>\n",
       "      <td>4.096896e+04</td>\n",
       "      <td>4.082419e+04</td>\n",
       "      <td>4.684636e+03</td>\n",
       "      <td>64.539661</td>\n",
       "    </tr>\n",
       "    <tr>\n",
       "      <th>std</th>\n",
       "      <td>8.176172e+04</td>\n",
       "      <td>8.007245e+04</td>\n",
       "      <td>7.970628e+04</td>\n",
       "      <td>2.888464e+04</td>\n",
       "      <td>15.622765</td>\n",
       "    </tr>\n",
       "    <tr>\n",
       "      <th>min</th>\n",
       "      <td>0.000000e+00</td>\n",
       "      <td>2.500000e+01</td>\n",
       "      <td>0.000000e+00</td>\n",
       "      <td>0.000000e+00</td>\n",
       "      <td>0.000000</td>\n",
       "    </tr>\n",
       "    <tr>\n",
       "      <th>25%</th>\n",
       "      <td>5.103000e+03</td>\n",
       "      <td>5.300000e+03</td>\n",
       "      <td>5.112250e+03</td>\n",
       "      <td>0.000000e+00</td>\n",
       "      <td>60.000000</td>\n",
       "    </tr>\n",
       "    <tr>\n",
       "      <th>50%</th>\n",
       "      <td>1.436500e+04</td>\n",
       "      <td>1.486560e+04</td>\n",
       "      <td>1.434000e+04</td>\n",
       "      <td>0.000000e+00</td>\n",
       "      <td>60.000000</td>\n",
       "    </tr>\n",
       "    <tr>\n",
       "      <th>75%</th>\n",
       "      <td>4.178000e+04</td>\n",
       "      <td>4.220250e+04</td>\n",
       "      <td>4.170750e+04</td>\n",
       "      <td>0.000000e+00</td>\n",
       "      <td>75.000000</td>\n",
       "    </tr>\n",
       "    <tr>\n",
       "      <th>max</th>\n",
       "      <td>1.508796e+06</td>\n",
       "      <td>1.356215e+06</td>\n",
       "      <td>1.301665e+06</td>\n",
       "      <td>1.277098e+06</td>\n",
       "      <td>90.000000</td>\n",
       "    </tr>\n",
       "  </tbody>\n",
       "</table>\n",
       "</div>"
      ]
     },
     "execution_count": 8,
     "metadata": {},
     "output_type": "execute_result"
    }
   ],
   "execution_count": 8
  },
  {
   "metadata": {
    "ExecuteTime": {
     "end_time": "2025-01-13T05:53:54.420972Z",
     "start_time": "2025-01-13T05:53:54.393743Z"
    }
   },
   "cell_type": "code",
   "source": "today_time = pd.to_datetime(df1['实际到账日'].fillna('0').max())",
   "id": "cf7859ad7d2481e2",
   "outputs": [],
   "execution_count": 11
  },
  {
   "metadata": {
    "ExecuteTime": {
     "end_time": "2025-01-13T05:55:57.372862Z",
     "start_time": "2025-01-13T05:55:57.353135Z"
    }
   },
   "cell_type": "code",
   "source": [
    "df1['实收金额'].fillna(0,inplace=True)\n",
    "df1['未收金额'].fillna(0,inplace=True)"
   ],
   "id": "1a3618f5a94ca6a6",
   "outputs": [],
   "execution_count": 12
  },
  {
   "metadata": {
    "ExecuteTime": {
     "end_time": "2025-01-13T06:00:04.570364Z",
     "start_time": "2025-01-13T06:00:04.546408Z"
    }
   },
   "cell_type": "code",
   "source": [
    "df1['账单周期'] = pd.to_datetime(df1['账单周期'])\n",
    "df1['应付日期'] = pd.to_datetime(df1['应付日期'])\n",
    "df1['实际到账日'] = pd.to_datetime(df1['实际到账日']).fillna(today_time)"
   ],
   "id": "da326f35912b9711",
   "outputs": [],
   "execution_count": 13
  },
  {
   "metadata": {
    "ExecuteTime": {
     "end_time": "2025-01-13T06:00:23.891221Z",
     "start_time": "2025-01-13T06:00:23.860810Z"
    }
   },
   "cell_type": "code",
   "source": "df1.info()",
   "id": "2a69fbf17f9fccc2",
   "outputs": [
    {
     "name": "stdout",
     "output_type": "stream",
     "text": [
      "<class 'pandas.core.frame.DataFrame'>\n",
      "RangeIndex: 5257 entries, 0 to 5256\n",
      "Data columns (total 14 columns):\n",
      " #   Column  Non-Null Count  Dtype         \n",
      "---  ------  --------------  -----         \n",
      " 0   销售      5257 non-null   object        \n",
      " 1   账单状态    5257 non-null   object        \n",
      " 2   账单周期    5257 non-null   datetime64[ns]\n",
      " 3   账单金额    5257 non-null   float64       \n",
      " 4   开票金额    5010 non-null   float64       \n",
      " 5   实收金额    5257 non-null   float64       \n",
      " 6   未收金额    5257 non-null   float64       \n",
      " 7   预计付款日   5256 non-null   object        \n",
      " 8   应付日期    5257 non-null   datetime64[ns]\n",
      " 9   商务催收日期  5257 non-null   object        \n",
      " 10  账期      5257 non-null   int64         \n",
      " 11  实际到账日   5257 non-null   datetime64[ns]\n",
      " 12  开票日期    4996 non-null   object        \n",
      " 13  客服      5257 non-null   object        \n",
      "dtypes: datetime64[ns](3), float64(4), int64(1), object(6)\n",
      "memory usage: 575.1+ KB\n"
     ]
    }
   ],
   "execution_count": 15
  },
  {
   "metadata": {
    "ExecuteTime": {
     "end_time": "2025-01-13T06:07:22.549502Z",
     "start_time": "2025-01-13T06:07:22.531382Z"
    }
   },
   "cell_type": "code",
   "source": "df1['是否到期'] = df1['应付日期'].apply(lambda x : 0 if x > today_time else 1)",
   "id": "764b1d9adb7245db",
   "outputs": [],
   "execution_count": 16
  },
  {
   "metadata": {
    "ExecuteTime": {
     "end_time": "2025-01-13T06:07:43.299461Z",
     "start_time": "2025-01-13T06:07:43.278091Z"
    }
   },
   "cell_type": "code",
   "source": "df1['是否到期'].value_counts()",
   "id": "ec0acf1e494771d5",
   "outputs": [
    {
     "data": {
      "text/plain": [
       "是否到期\n",
       "1    4437\n",
       "0     820\n",
       "Name: count, dtype: int64"
      ]
     },
     "execution_count": 17,
     "metadata": {},
     "output_type": "execute_result"
    }
   ],
   "execution_count": 17
  },
  {
   "metadata": {
    "ExecuteTime": {
     "end_time": "2025-01-13T06:08:42.250812Z",
     "start_time": "2025-01-13T06:08:42.239776Z"
    }
   },
   "cell_type": "code",
   "source": "df1['账单周期'].value_counts()",
   "id": "34bb2b08aecd2e9e",
   "outputs": [
    {
     "data": {
      "text/plain": [
       "账单周期\n",
       "2018-11-01    428\n",
       "2018-12-01    418\n",
       "2019-03-01    416\n",
       "2018-10-01    391\n",
       "2019-04-01    382\n",
       "2018-08-01    370\n",
       "2019-01-01    358\n",
       "2018-07-01    332\n",
       "2018-09-01    320\n",
       "2018-06-01    307\n",
       "2018-05-01    279\n",
       "2019-02-01    240\n",
       "2018-04-01    222\n",
       "2018-03-01    167\n",
       "2018-01-01    124\n",
       "2017-12-01    103\n",
       "2018-02-01    102\n",
       "2017-11-01     74\n",
       "2017-09-01     58\n",
       "2017-07-01     55\n",
       "2017-10-01     55\n",
       "2017-08-01     51\n",
       "2017-06-01      3\n",
       "2019-05-01      2\n",
       "Name: count, dtype: int64"
      ]
     },
     "execution_count": 18,
     "metadata": {},
     "output_type": "execute_result"
    }
   ],
   "execution_count": 18
  },
  {
   "metadata": {
    "ExecuteTime": {
     "end_time": "2025-01-13T06:45:04.540244Z",
     "start_time": "2025-01-13T06:45:04.300430Z"
    }
   },
   "cell_type": "code",
   "source": "df1['是否到期90天'] = (today_time - df1['应付日期']).apply(lambda x : 1 if x.days >=90 else 0)",
   "id": "b7a1f2b473257dae",
   "outputs": [],
   "execution_count": 32
  },
  {
   "metadata": {
    "ExecuteTime": {
     "end_time": "2025-01-13T06:45:07.055134Z",
     "start_time": "2025-01-13T06:45:07.039026Z"
    }
   },
   "cell_type": "code",
   "source": "df1['是否到期90天'].value_counts()",
   "id": "a1662ddfc1ad4d1b",
   "outputs": [
    {
     "data": {
      "text/plain": [
       "是否到期90天\n",
       "1    3374\n",
       "0    1883\n",
       "Name: count, dtype: int64"
      ]
     },
     "execution_count": 33,
     "metadata": {},
     "output_type": "execute_result"
    }
   ],
   "execution_count": 33
  },
  {
   "metadata": {
    "ExecuteTime": {
     "end_time": "2025-01-13T06:45:39.305837Z",
     "start_time": "2025-01-13T06:45:39.290138Z"
    }
   },
   "cell_type": "code",
   "source": "df1.drop('是否逾期90天', axis=1, inplace=True)",
   "id": "951e22af9093e116",
   "outputs": [],
   "execution_count": 34
  },
  {
   "metadata": {
    "ExecuteTime": {
     "end_time": "2025-01-13T06:19:45.523597Z",
     "start_time": "2025-01-13T06:19:45.503201Z"
    }
   },
   "cell_type": "code",
   "source": "df1['未收金额2'] = (df1['账单金额'] - df1['实收金额'])",
   "id": "ae083476d9904daf",
   "outputs": [],
   "execution_count": 24
  },
  {
   "metadata": {
    "ExecuteTime": {
     "end_time": "2025-01-13T06:28:17.483046Z",
     "start_time": "2025-01-13T06:28:17.348957Z"
    }
   },
   "cell_type": "code",
   "source": "df1['历史逾期天数'] = df1.apply(lambda x : (x['实际到账日'] - x['应付日期']).days if x['未收金额2'] == 0 else (today_time - x['应付日期']).days,axis=1)",
   "id": "5dd0dc0e1be8322f",
   "outputs": [],
   "execution_count": 25
  },
  {
   "metadata": {
    "ExecuteTime": {
     "end_time": "2025-01-13T06:28:22.312274Z",
     "start_time": "2025-01-13T06:28:22.301040Z"
    }
   },
   "cell_type": "code",
   "source": "df1['历史逾期天数']",
   "id": "cf04169109c543f4",
   "outputs": [
    {
     "data": {
      "text/plain": [
       "0       -75\n",
       "1       -75\n",
       "2       -44\n",
       "3       -75\n",
       "4       -75\n",
       "       ... \n",
       "5252    624\n",
       "5253    594\n",
       "5254      0\n",
       "5255     -9\n",
       "5256    624\n",
       "Name: 历史逾期天数, Length: 5257, dtype: int64"
      ]
     },
     "execution_count": 26,
     "metadata": {},
     "output_type": "execute_result"
    }
   ],
   "execution_count": 26
  },
  {
   "metadata": {
    "ExecuteTime": {
     "end_time": "2025-01-13T06:31:59.104716Z",
     "start_time": "2025-01-13T06:31:59.036943Z"
    }
   },
   "cell_type": "code",
   "source": "df1['当前逾期天数'] = df1.apply(lambda x : x['历史逾期天数'] if x['未收金额2'] > 0 else 0,axis=1)",
   "id": "1fe71bb1552eabe8",
   "outputs": [],
   "execution_count": 27
  },
  {
   "metadata": {
    "ExecuteTime": {
     "end_time": "2025-01-13T06:38:23.763186Z",
     "start_time": "2025-01-13T06:38:23.676546Z"
    }
   },
   "cell_type": "code",
   "source": [
    "df1['账单季度'] = df1['账单周期'].apply(lambda x : x.to_period('Q'))\n",
    "df1['账单季度'].value_counts()"
   ],
   "id": "ce00beb5e876e419",
   "outputs": [
    {
     "data": {
      "text/plain": [
       "账单季度\n",
       "2018Q4    1237\n",
       "2018Q3    1022\n",
       "2019Q1    1014\n",
       "2018Q2     808\n",
       "2018Q1     393\n",
       "2019Q2     384\n",
       "2017Q4     232\n",
       "2017Q3     164\n",
       "2017Q2       3\n",
       "Freq: Q-DEC, Name: count, dtype: int64"
      ]
     },
     "execution_count": 29,
     "metadata": {},
     "output_type": "execute_result"
    }
   ],
   "execution_count": 29
  },
  {
   "metadata": {
    "ExecuteTime": {
     "end_time": "2025-01-13T06:45:56.358868Z",
     "start_time": "2025-01-13T06:45:56.335175Z"
    }
   },
   "cell_type": "code",
   "source": [
    "df2 = df1[(df1['账单季度'] <= '2018Q4') & (df1['账单季度'] >= '2017Q3')]\n",
    "df2.shape"
   ],
   "id": "c3ac7fb35c01288a",
   "outputs": [
    {
     "data": {
      "text/plain": [
       "(3856, 20)"
      ]
     },
     "execution_count": 35,
     "metadata": {},
     "output_type": "execute_result"
    }
   ],
   "execution_count": 35
  },
  {
   "metadata": {
    "ExecuteTime": {
     "end_time": "2025-01-13T06:45:58.852748Z",
     "start_time": "2025-01-13T06:45:58.836714Z"
    }
   },
   "cell_type": "code",
   "source": [
    "fn1 = df2.groupby('账单季度')[['账单金额']].sum()\n",
    "fn1"
   ],
   "id": "f263b42eb13c9ae",
   "outputs": [
    {
     "data": {
      "text/plain": [
       "               账单金额\n",
       "账单季度               \n",
       "2017Q3   8247952.62\n",
       "2017Q4  11643604.99\n",
       "2018Q1  17149674.79\n",
       "2018Q2  31097661.29\n",
       "2018Q3  38292071.12\n",
       "2018Q4  51963089.64"
      ],
      "text/html": [
       "<div>\n",
       "<style scoped>\n",
       "    .dataframe tbody tr th:only-of-type {\n",
       "        vertical-align: middle;\n",
       "    }\n",
       "\n",
       "    .dataframe tbody tr th {\n",
       "        vertical-align: top;\n",
       "    }\n",
       "\n",
       "    .dataframe thead th {\n",
       "        text-align: right;\n",
       "    }\n",
       "</style>\n",
       "<table border=\"1\" class=\"dataframe\">\n",
       "  <thead>\n",
       "    <tr style=\"text-align: right;\">\n",
       "      <th></th>\n",
       "      <th>账单金额</th>\n",
       "    </tr>\n",
       "    <tr>\n",
       "      <th>账单季度</th>\n",
       "      <th></th>\n",
       "    </tr>\n",
       "  </thead>\n",
       "  <tbody>\n",
       "    <tr>\n",
       "      <th>2017Q3</th>\n",
       "      <td>8247952.62</td>\n",
       "    </tr>\n",
       "    <tr>\n",
       "      <th>2017Q4</th>\n",
       "      <td>11643604.99</td>\n",
       "    </tr>\n",
       "    <tr>\n",
       "      <th>2018Q1</th>\n",
       "      <td>17149674.79</td>\n",
       "    </tr>\n",
       "    <tr>\n",
       "      <th>2018Q2</th>\n",
       "      <td>31097661.29</td>\n",
       "    </tr>\n",
       "    <tr>\n",
       "      <th>2018Q3</th>\n",
       "      <td>38292071.12</td>\n",
       "    </tr>\n",
       "    <tr>\n",
       "      <th>2018Q4</th>\n",
       "      <td>51963089.64</td>\n",
       "    </tr>\n",
       "  </tbody>\n",
       "</table>\n",
       "</div>"
      ]
     },
     "execution_count": 36,
     "metadata": {},
     "output_type": "execute_result"
    }
   ],
   "execution_count": 36
  },
  {
   "metadata": {
    "ExecuteTime": {
     "end_time": "2025-01-13T06:47:20.526556Z",
     "start_time": "2025-01-13T06:47:20.504016Z"
    }
   },
   "cell_type": "code",
   "source": "df3 = df2[df1['是否到期90天'] == 1]",
   "id": "2078ff328c6d51ca",
   "outputs": [
    {
     "name": "stderr",
     "output_type": "stream",
     "text": [
      "C:\\Users\\46901\\AppData\\Local\\Temp\\ipykernel_12624\\3548058834.py:1: UserWarning: Boolean Series key will be reindexed to match DataFrame index.\n",
      "  df3 = df2[df1['是否到期90天'] == 1]\n"
     ]
    }
   ],
   "execution_count": 39
  },
  {
   "metadata": {
    "ExecuteTime": {
     "end_time": "2025-01-13T06:49:35.689819Z",
     "start_time": "2025-01-13T06:49:35.672039Z"
    }
   },
   "cell_type": "code",
   "source": [
    "fn2 = df3.groupby('账单季度')[['账单金额']].sum()\n",
    "fn2.columns = ['到期金额']"
   ],
   "id": "de2a93f61e4d5fdf",
   "outputs": [],
   "execution_count": 43
  },
  {
   "metadata": {
    "ExecuteTime": {
     "end_time": "2025-01-13T06:49:40.732345Z",
     "start_time": "2025-01-13T06:49:40.717978Z"
    }
   },
   "cell_type": "code",
   "source": "fn2",
   "id": "5c36caf3a050850b",
   "outputs": [
    {
     "data": {
      "text/plain": [
       "               到期金额\n",
       "账单季度               \n",
       "2017Q3   8247952.62\n",
       "2017Q4  11643604.99\n",
       "2018Q1  17149674.79\n",
       "2018Q2  31097661.29\n",
       "2018Q3  38292071.12\n",
       "2018Q4  28265677.59"
      ],
      "text/html": [
       "<div>\n",
       "<style scoped>\n",
       "    .dataframe tbody tr th:only-of-type {\n",
       "        vertical-align: middle;\n",
       "    }\n",
       "\n",
       "    .dataframe tbody tr th {\n",
       "        vertical-align: top;\n",
       "    }\n",
       "\n",
       "    .dataframe thead th {\n",
       "        text-align: right;\n",
       "    }\n",
       "</style>\n",
       "<table border=\"1\" class=\"dataframe\">\n",
       "  <thead>\n",
       "    <tr style=\"text-align: right;\">\n",
       "      <th></th>\n",
       "      <th>到期金额</th>\n",
       "    </tr>\n",
       "    <tr>\n",
       "      <th>账单季度</th>\n",
       "      <th></th>\n",
       "    </tr>\n",
       "  </thead>\n",
       "  <tbody>\n",
       "    <tr>\n",
       "      <th>2017Q3</th>\n",
       "      <td>8247952.62</td>\n",
       "    </tr>\n",
       "    <tr>\n",
       "      <th>2017Q4</th>\n",
       "      <td>11643604.99</td>\n",
       "    </tr>\n",
       "    <tr>\n",
       "      <th>2018Q1</th>\n",
       "      <td>17149674.79</td>\n",
       "    </tr>\n",
       "    <tr>\n",
       "      <th>2018Q2</th>\n",
       "      <td>31097661.29</td>\n",
       "    </tr>\n",
       "    <tr>\n",
       "      <th>2018Q3</th>\n",
       "      <td>38292071.12</td>\n",
       "    </tr>\n",
       "    <tr>\n",
       "      <th>2018Q4</th>\n",
       "      <td>28265677.59</td>\n",
       "    </tr>\n",
       "  </tbody>\n",
       "</table>\n",
       "</div>"
      ]
     },
     "execution_count": 44,
     "metadata": {},
     "output_type": "execute_result"
    }
   ],
   "execution_count": 44
  },
  {
   "metadata": {
    "ExecuteTime": {
     "end_time": "2025-01-13T06:50:52.358698Z",
     "start_time": "2025-01-13T06:50:52.345670Z"
    }
   },
   "cell_type": "code",
   "source": [
    "fn3 = df3.groupby('账单季度')[['未收金额2']].sum()\n",
    "fn3.columns = ['当前逾期90+金额']\n",
    "fn3"
   ],
   "id": "e1ae7fc208fa904b",
   "outputs": [
    {
     "data": {
      "text/plain": [
       "        当前逾期90+金额\n",
       "账单季度             \n",
       "2017Q3    63883.0\n",
       "2017Q4    57380.0\n",
       "2018Q1    64283.0\n",
       "2018Q2   106930.0\n",
       "2018Q3   412920.1\n",
       "2018Q4   304183.0"
      ],
      "text/html": [
       "<div>\n",
       "<style scoped>\n",
       "    .dataframe tbody tr th:only-of-type {\n",
       "        vertical-align: middle;\n",
       "    }\n",
       "\n",
       "    .dataframe tbody tr th {\n",
       "        vertical-align: top;\n",
       "    }\n",
       "\n",
       "    .dataframe thead th {\n",
       "        text-align: right;\n",
       "    }\n",
       "</style>\n",
       "<table border=\"1\" class=\"dataframe\">\n",
       "  <thead>\n",
       "    <tr style=\"text-align: right;\">\n",
       "      <th></th>\n",
       "      <th>当前逾期90+金额</th>\n",
       "    </tr>\n",
       "    <tr>\n",
       "      <th>账单季度</th>\n",
       "      <th></th>\n",
       "    </tr>\n",
       "  </thead>\n",
       "  <tbody>\n",
       "    <tr>\n",
       "      <th>2017Q3</th>\n",
       "      <td>63883.0</td>\n",
       "    </tr>\n",
       "    <tr>\n",
       "      <th>2017Q4</th>\n",
       "      <td>57380.0</td>\n",
       "    </tr>\n",
       "    <tr>\n",
       "      <th>2018Q1</th>\n",
       "      <td>64283.0</td>\n",
       "    </tr>\n",
       "    <tr>\n",
       "      <th>2018Q2</th>\n",
       "      <td>106930.0</td>\n",
       "    </tr>\n",
       "    <tr>\n",
       "      <th>2018Q3</th>\n",
       "      <td>412920.1</td>\n",
       "    </tr>\n",
       "    <tr>\n",
       "      <th>2018Q4</th>\n",
       "      <td>304183.0</td>\n",
       "    </tr>\n",
       "  </tbody>\n",
       "</table>\n",
       "</div>"
      ]
     },
     "execution_count": 45,
     "metadata": {},
     "output_type": "execute_result"
    }
   ],
   "execution_count": 45
  },
  {
   "metadata": {
    "ExecuteTime": {
     "end_time": "2025-01-13T06:54:57.685360Z",
     "start_time": "2025-01-13T06:54:57.667514Z"
    }
   },
   "cell_type": "code",
   "source": "final1 = pd.concat([fn1, fn2, fn3], axis=1)",
   "id": "b10023944454aee3",
   "outputs": [],
   "execution_count": 48
  },
  {
   "metadata": {
    "ExecuteTime": {
     "end_time": "2025-01-13T06:55:59.856197Z",
     "start_time": "2025-01-13T06:55:59.844363Z"
    }
   },
   "cell_type": "code",
   "source": "final1['90+净坏账率'] = round(final1['当前逾期90+金额'] / final1['到期金额'],3)",
   "id": "f97e1c1642bea37",
   "outputs": [],
   "execution_count": 52
  },
  {
   "metadata": {
    "ExecuteTime": {
     "end_time": "2025-01-13T06:56:00.816911Z",
     "start_time": "2025-01-13T06:56:00.799577Z"
    }
   },
   "cell_type": "code",
   "source": "final1",
   "id": "4e023b0ee0bedb87",
   "outputs": [
    {
     "data": {
      "text/plain": [
       "               账单金额         到期金额  当前逾期90+金额  90+净坏账率\n",
       "账单季度                                                \n",
       "2017Q3   8247952.62   8247952.62    63883.0    0.008\n",
       "2017Q4  11643604.99  11643604.99    57380.0    0.005\n",
       "2018Q1  17149674.79  17149674.79    64283.0    0.004\n",
       "2018Q2  31097661.29  31097661.29   106930.0    0.003\n",
       "2018Q3  38292071.12  38292071.12   412920.1    0.011\n",
       "2018Q4  51963089.64  28265677.59   304183.0    0.011"
      ],
      "text/html": [
       "<div>\n",
       "<style scoped>\n",
       "    .dataframe tbody tr th:only-of-type {\n",
       "        vertical-align: middle;\n",
       "    }\n",
       "\n",
       "    .dataframe tbody tr th {\n",
       "        vertical-align: top;\n",
       "    }\n",
       "\n",
       "    .dataframe thead th {\n",
       "        text-align: right;\n",
       "    }\n",
       "</style>\n",
       "<table border=\"1\" class=\"dataframe\">\n",
       "  <thead>\n",
       "    <tr style=\"text-align: right;\">\n",
       "      <th></th>\n",
       "      <th>账单金额</th>\n",
       "      <th>到期金额</th>\n",
       "      <th>当前逾期90+金额</th>\n",
       "      <th>90+净坏账率</th>\n",
       "    </tr>\n",
       "    <tr>\n",
       "      <th>账单季度</th>\n",
       "      <th></th>\n",
       "      <th></th>\n",
       "      <th></th>\n",
       "      <th></th>\n",
       "    </tr>\n",
       "  </thead>\n",
       "  <tbody>\n",
       "    <tr>\n",
       "      <th>2017Q3</th>\n",
       "      <td>8247952.62</td>\n",
       "      <td>8247952.62</td>\n",
       "      <td>63883.0</td>\n",
       "      <td>0.008</td>\n",
       "    </tr>\n",
       "    <tr>\n",
       "      <th>2017Q4</th>\n",
       "      <td>11643604.99</td>\n",
       "      <td>11643604.99</td>\n",
       "      <td>57380.0</td>\n",
       "      <td>0.005</td>\n",
       "    </tr>\n",
       "    <tr>\n",
       "      <th>2018Q1</th>\n",
       "      <td>17149674.79</td>\n",
       "      <td>17149674.79</td>\n",
       "      <td>64283.0</td>\n",
       "      <td>0.004</td>\n",
       "    </tr>\n",
       "    <tr>\n",
       "      <th>2018Q2</th>\n",
       "      <td>31097661.29</td>\n",
       "      <td>31097661.29</td>\n",
       "      <td>106930.0</td>\n",
       "      <td>0.003</td>\n",
       "    </tr>\n",
       "    <tr>\n",
       "      <th>2018Q3</th>\n",
       "      <td>38292071.12</td>\n",
       "      <td>38292071.12</td>\n",
       "      <td>412920.1</td>\n",
       "      <td>0.011</td>\n",
       "    </tr>\n",
       "    <tr>\n",
       "      <th>2018Q4</th>\n",
       "      <td>51963089.64</td>\n",
       "      <td>28265677.59</td>\n",
       "      <td>304183.0</td>\n",
       "      <td>0.011</td>\n",
       "    </tr>\n",
       "  </tbody>\n",
       "</table>\n",
       "</div>"
      ]
     },
     "execution_count": 53,
     "metadata": {},
     "output_type": "execute_result"
    }
   ],
   "execution_count": 53
  },
  {
   "metadata": {
    "ExecuteTime": {
     "end_time": "2025-01-13T06:58:32.698998Z",
     "start_time": "2025-01-13T06:58:32.633746Z"
    }
   },
   "cell_type": "code",
   "source": [
    "bar = (\n",
    "    Bar()\n",
    "    .add_xaxis(list(final1.index.values.astype(str)))\n",
    "    .add_yaxis(\n",
    "        \"账单金额\",\n",
    "        list(final1.账单金额),\n",
    "        yaxis_index=0,\n",
    "        color=\"#5793f3\",\n",
    "    )\n",
    "    .set_global_opts(\n",
    "        title_opts=opts.TitleOpts(title=\"90+净坏账率\"),\n",
    "    )\n",
    "    .extend_axis(\n",
    "        yaxis=opts.AxisOpts(\n",
    "            name=\"90+净坏账率\",\n",
    "            type_=\"value\",\n",
    "            min_=0,\n",
    "            max_=0.014,\n",
    "            position=\"right\",\n",
    "            axisline_opts=opts.AxisLineOpts(\n",
    "                linestyle_opts=opts.LineStyleOpts(color=\"#d14a61\")\n",
    "            ),\n",
    "            axislabel_opts=opts.LabelOpts(formatter=\"{value}\"),\n",
    "        )\n",
    "    )\n",
    ")\n",
    "line = (\n",
    "    Line()\n",
    "    .add_xaxis(list(final1.index.values.astype(str)))\n",
    "    .add_yaxis(\n",
    "        \"90+净坏账率\",\n",
    "        list(final1['90+净坏账率']),\n",
    "        yaxis_index=1,\n",
    "        color=\"#675bba\",\n",
    "        label_opts=opts.LabelOpts(is_show=False),\n",
    "    )\n",
    ")\n",
    "bar.overlap(line).render()"
   ],
   "id": "53cfdead7409487f",
   "outputs": [
    {
     "data": {
      "text/plain": [
       "'D:\\\\python-learn\\\\风控项目\\\\render.html'"
      ]
     },
     "execution_count": 54,
     "metadata": {},
     "output_type": "execute_result"
    }
   ],
   "execution_count": 54
  },
  {
   "metadata": {
    "ExecuteTime": {
     "end_time": "2025-01-13T07:51:41.806905Z",
     "start_time": "2025-01-13T07:51:41.787249Z"
    }
   },
   "cell_type": "code",
   "source": [
    "df4 = df1[(df1['账期'] == 60) & df1['是否到期'] == 1]\n",
    "fn1 = df4.groupby('账单季度')[['账单金额']].sum()\n",
    "fn1.columns = ['60天账期的账单金额']"
   ],
   "id": "bab4ed7d9a43b882",
   "outputs": [],
   "execution_count": 57
  },
  {
   "metadata": {
    "ExecuteTime": {
     "end_time": "2025-01-13T07:56:42.807390Z",
     "start_time": "2025-01-13T07:56:42.785224Z"
    }
   },
   "cell_type": "code",
   "source": [
    "df5 = df1[(df1['账期'] == 60) & df1['是否到期'] == 1 & (df1['历史逾期天数'] > 0)]\n",
    "fn2 = df5.groupby('账单季度')[['未收金额2']].sum()\n",
    "fn2.columns = ['60天账期的入催金额']\n",
    "fn2"
   ],
   "id": "ddedd2824350daf7",
   "outputs": [
    {
     "data": {
      "text/plain": [
       "         60天账期的入催金额\n",
       "账单季度               \n",
       "2017Q2     34550.00\n",
       "2017Q3     36983.00\n",
       "2017Q4     52750.00\n",
       "2018Q1     62460.00\n",
       "2018Q2     13590.00\n",
       "2018Q3    380265.10\n",
       "2018Q4    584789.50\n",
       "2019Q1  13695563.96\n",
       "2019Q2  14721753.49"
      ],
      "text/html": [
       "<div>\n",
       "<style scoped>\n",
       "    .dataframe tbody tr th:only-of-type {\n",
       "        vertical-align: middle;\n",
       "    }\n",
       "\n",
       "    .dataframe tbody tr th {\n",
       "        vertical-align: top;\n",
       "    }\n",
       "\n",
       "    .dataframe thead th {\n",
       "        text-align: right;\n",
       "    }\n",
       "</style>\n",
       "<table border=\"1\" class=\"dataframe\">\n",
       "  <thead>\n",
       "    <tr style=\"text-align: right;\">\n",
       "      <th></th>\n",
       "      <th>60天账期的入催金额</th>\n",
       "    </tr>\n",
       "    <tr>\n",
       "      <th>账单季度</th>\n",
       "      <th></th>\n",
       "    </tr>\n",
       "  </thead>\n",
       "  <tbody>\n",
       "    <tr>\n",
       "      <th>2017Q2</th>\n",
       "      <td>34550.00</td>\n",
       "    </tr>\n",
       "    <tr>\n",
       "      <th>2017Q3</th>\n",
       "      <td>36983.00</td>\n",
       "    </tr>\n",
       "    <tr>\n",
       "      <th>2017Q4</th>\n",
       "      <td>52750.00</td>\n",
       "    </tr>\n",
       "    <tr>\n",
       "      <th>2018Q1</th>\n",
       "      <td>62460.00</td>\n",
       "    </tr>\n",
       "    <tr>\n",
       "      <th>2018Q2</th>\n",
       "      <td>13590.00</td>\n",
       "    </tr>\n",
       "    <tr>\n",
       "      <th>2018Q3</th>\n",
       "      <td>380265.10</td>\n",
       "    </tr>\n",
       "    <tr>\n",
       "      <th>2018Q4</th>\n",
       "      <td>584789.50</td>\n",
       "    </tr>\n",
       "    <tr>\n",
       "      <th>2019Q1</th>\n",
       "      <td>13695563.96</td>\n",
       "    </tr>\n",
       "    <tr>\n",
       "      <th>2019Q2</th>\n",
       "      <td>14721753.49</td>\n",
       "    </tr>\n",
       "  </tbody>\n",
       "</table>\n",
       "</div>"
      ]
     },
     "execution_count": 59,
     "metadata": {},
     "output_type": "execute_result"
    }
   ],
   "execution_count": 59
  },
  {
   "metadata": {
    "ExecuteTime": {
     "end_time": "2025-01-13T07:57:14.946607Z",
     "start_time": "2025-01-13T07:57:14.902045Z"
    }
   },
   "cell_type": "code",
   "source": [
    "df6 = df1[(df1['账期'] == 90) & df1['是否到期'] == 1]\n",
    "fn3 = df6.groupby('账单季度')[['账单金额']].sum()\n",
    "fn3.columns = ['90天账期的账单金额']\n",
    "df7 = df1[(df1['账期'] == 90) & df1['是否到期'] == 1 & (df1['历史逾期天数'] > 0)]\n",
    "fn4 = df7.groupby('账单季度')[['未收金额2']].sum()\n",
    "fn4.columns = ['90天账期的入催金额']\n",
    "fn4"
   ],
   "id": "a919238e72bfbad4",
   "outputs": [
    {
     "data": {
      "text/plain": [
       "         90天账期的入催金额\n",
       "账单季度               \n",
       "2017Q2         0.00\n",
       "2017Q3      1900.00\n",
       "2017Q4         0.00\n",
       "2018Q1       800.00\n",
       "2018Q2         0.00\n",
       "2018Q3      8235.00\n",
       "2018Q4    325141.00\n",
       "2019Q1  13382174.96\n",
       "2019Q2  14721753.49"
      ],
      "text/html": [
       "<div>\n",
       "<style scoped>\n",
       "    .dataframe tbody tr th:only-of-type {\n",
       "        vertical-align: middle;\n",
       "    }\n",
       "\n",
       "    .dataframe tbody tr th {\n",
       "        vertical-align: top;\n",
       "    }\n",
       "\n",
       "    .dataframe thead th {\n",
       "        text-align: right;\n",
       "    }\n",
       "</style>\n",
       "<table border=\"1\" class=\"dataframe\">\n",
       "  <thead>\n",
       "    <tr style=\"text-align: right;\">\n",
       "      <th></th>\n",
       "      <th>90天账期的入催金额</th>\n",
       "    </tr>\n",
       "    <tr>\n",
       "      <th>账单季度</th>\n",
       "      <th></th>\n",
       "    </tr>\n",
       "  </thead>\n",
       "  <tbody>\n",
       "    <tr>\n",
       "      <th>2017Q2</th>\n",
       "      <td>0.00</td>\n",
       "    </tr>\n",
       "    <tr>\n",
       "      <th>2017Q3</th>\n",
       "      <td>1900.00</td>\n",
       "    </tr>\n",
       "    <tr>\n",
       "      <th>2017Q4</th>\n",
       "      <td>0.00</td>\n",
       "    </tr>\n",
       "    <tr>\n",
       "      <th>2018Q1</th>\n",
       "      <td>800.00</td>\n",
       "    </tr>\n",
       "    <tr>\n",
       "      <th>2018Q2</th>\n",
       "      <td>0.00</td>\n",
       "    </tr>\n",
       "    <tr>\n",
       "      <th>2018Q3</th>\n",
       "      <td>8235.00</td>\n",
       "    </tr>\n",
       "    <tr>\n",
       "      <th>2018Q4</th>\n",
       "      <td>325141.00</td>\n",
       "    </tr>\n",
       "    <tr>\n",
       "      <th>2019Q1</th>\n",
       "      <td>13382174.96</td>\n",
       "    </tr>\n",
       "    <tr>\n",
       "      <th>2019Q2</th>\n",
       "      <td>14721753.49</td>\n",
       "    </tr>\n",
       "  </tbody>\n",
       "</table>\n",
       "</div>"
      ]
     },
     "execution_count": 60,
     "metadata": {},
     "output_type": "execute_result"
    }
   ],
   "execution_count": 60
  },
  {
   "metadata": {
    "ExecuteTime": {
     "end_time": "2025-01-13T07:59:00.461087Z",
     "start_time": "2025-01-13T07:59:00.447240Z"
    }
   },
   "cell_type": "code",
   "source": "final2 = pd.concat([fn1, fn2, fn3, fn4], axis=1)",
   "id": "ac6d169a69df5591",
   "outputs": [],
   "execution_count": 62
  },
  {
   "metadata": {
    "ExecuteTime": {
     "end_time": "2025-01-13T08:01:03.642297Z",
     "start_time": "2025-01-13T08:01:03.630116Z"
    }
   },
   "cell_type": "code",
   "source": "final2 = final2[(final2.index <= '2018Q4') & (final2.index >= '2017Q3')]",
   "id": "b4e2548bb8ab1132",
   "outputs": [],
   "execution_count": 63
  },
  {
   "metadata": {
    "ExecuteTime": {
     "end_time": "2025-01-13T08:07:22.064976Z",
     "start_time": "2025-01-13T08:07:22.054630Z"
    }
   },
   "cell_type": "code",
   "source": [
    "final2['60天账期的入催率'] = final2['60天账期的入催金额']/final2['60天账期的账单金额']\n",
    "final2['90天账期的入催率'] = final2['90天账期的入催金额']/final2['90天账期的账单金额']"
   ],
   "id": "3770b55afee84aa9",
   "outputs": [],
   "execution_count": 65
  },
  {
   "metadata": {
    "ExecuteTime": {
     "end_time": "2025-01-13T08:07:30.956723Z",
     "start_time": "2025-01-13T08:07:30.936639Z"
    }
   },
   "cell_type": "code",
   "source": "final2",
   "id": "6a3844c72986e53b",
   "outputs": [
    {
     "data": {
      "text/plain": [
       "         60天账期的账单金额  60天账期的入催金额  90天账期的账单金额  90天账期的入催金额  60天账期的入催率  90天账期的入催率\n",
       "账单季度                                                                         \n",
       "2017Q3   4854770.94     36983.0   2769264.0      1900.0   0.007618   0.000686\n",
       "2017Q4   6737327.99     52750.0   3921491.0         0.0   0.007830   0.000000\n",
       "2018Q1  12106356.79     62460.0   4244304.0       800.0   0.005159   0.000188\n",
       "2018Q2  19234086.87     13590.0   8427775.0         0.0   0.000707   0.000000\n",
       "2018Q3  22830710.42    380265.1   9835629.0      8235.0   0.016656   0.000837\n",
       "2018Q4  26337959.52    584789.5  17706430.0    325141.0   0.022203   0.018363"
      ],
      "text/html": [
       "<div>\n",
       "<style scoped>\n",
       "    .dataframe tbody tr th:only-of-type {\n",
       "        vertical-align: middle;\n",
       "    }\n",
       "\n",
       "    .dataframe tbody tr th {\n",
       "        vertical-align: top;\n",
       "    }\n",
       "\n",
       "    .dataframe thead th {\n",
       "        text-align: right;\n",
       "    }\n",
       "</style>\n",
       "<table border=\"1\" class=\"dataframe\">\n",
       "  <thead>\n",
       "    <tr style=\"text-align: right;\">\n",
       "      <th></th>\n",
       "      <th>60天账期的账单金额</th>\n",
       "      <th>60天账期的入催金额</th>\n",
       "      <th>90天账期的账单金额</th>\n",
       "      <th>90天账期的入催金额</th>\n",
       "      <th>60天账期的入催率</th>\n",
       "      <th>90天账期的入催率</th>\n",
       "    </tr>\n",
       "    <tr>\n",
       "      <th>账单季度</th>\n",
       "      <th></th>\n",
       "      <th></th>\n",
       "      <th></th>\n",
       "      <th></th>\n",
       "      <th></th>\n",
       "      <th></th>\n",
       "    </tr>\n",
       "  </thead>\n",
       "  <tbody>\n",
       "    <tr>\n",
       "      <th>2017Q3</th>\n",
       "      <td>4854770.94</td>\n",
       "      <td>36983.0</td>\n",
       "      <td>2769264.0</td>\n",
       "      <td>1900.0</td>\n",
       "      <td>0.007618</td>\n",
       "      <td>0.000686</td>\n",
       "    </tr>\n",
       "    <tr>\n",
       "      <th>2017Q4</th>\n",
       "      <td>6737327.99</td>\n",
       "      <td>52750.0</td>\n",
       "      <td>3921491.0</td>\n",
       "      <td>0.0</td>\n",
       "      <td>0.007830</td>\n",
       "      <td>0.000000</td>\n",
       "    </tr>\n",
       "    <tr>\n",
       "      <th>2018Q1</th>\n",
       "      <td>12106356.79</td>\n",
       "      <td>62460.0</td>\n",
       "      <td>4244304.0</td>\n",
       "      <td>800.0</td>\n",
       "      <td>0.005159</td>\n",
       "      <td>0.000188</td>\n",
       "    </tr>\n",
       "    <tr>\n",
       "      <th>2018Q2</th>\n",
       "      <td>19234086.87</td>\n",
       "      <td>13590.0</td>\n",
       "      <td>8427775.0</td>\n",
       "      <td>0.0</td>\n",
       "      <td>0.000707</td>\n",
       "      <td>0.000000</td>\n",
       "    </tr>\n",
       "    <tr>\n",
       "      <th>2018Q3</th>\n",
       "      <td>22830710.42</td>\n",
       "      <td>380265.1</td>\n",
       "      <td>9835629.0</td>\n",
       "      <td>8235.0</td>\n",
       "      <td>0.016656</td>\n",
       "      <td>0.000837</td>\n",
       "    </tr>\n",
       "    <tr>\n",
       "      <th>2018Q4</th>\n",
       "      <td>26337959.52</td>\n",
       "      <td>584789.5</td>\n",
       "      <td>17706430.0</td>\n",
       "      <td>325141.0</td>\n",
       "      <td>0.022203</td>\n",
       "      <td>0.018363</td>\n",
       "    </tr>\n",
       "  </tbody>\n",
       "</table>\n",
       "</div>"
      ]
     },
     "execution_count": 66,
     "metadata": {},
     "output_type": "execute_result"
    }
   ],
   "execution_count": 66
  },
  {
   "metadata": {
    "ExecuteTime": {
     "end_time": "2025-01-13T08:10:55.564150Z",
     "start_time": "2025-01-13T08:10:55.542395Z"
    }
   },
   "cell_type": "code",
   "source": [
    "line = (\n",
    "    Line()\n",
    "    .add_xaxis(list(final2.index.values.astype(str)))\n",
    "    .add_yaxis(\n",
    "        \"60天账期入催率\",\n",
    "        list(final2['60天账期的入催率']),\n",
    "        yaxis_index=0,\n",
    "        color=\"#675bba\",\n",
    "        label_opts=opts.LabelOpts(is_show=False),\n",
    "    )\n",
    "    .set_global_opts(\n",
    "    title_opts=opts.TitleOpts(title=\"不同账期入催率\"),\n",
    "    )\n",
    "    .add_xaxis(list(final2.index.values.astype(str)))\n",
    "    .add_yaxis(\n",
    "        \"90天账期入催率\",\n",
    "        list(final2['90天账期的入催率']),\n",
    "        yaxis_index=0,\n",
    "        color=\"#d14a61\",\n",
    "        label_opts=opts.LabelOpts(is_show=False),\n",
    "    )\n",
    ")\n",
    "line.render()"
   ],
   "id": "b6925fa18b936946",
   "outputs": [
    {
     "data": {
      "text/plain": [
       "'D:\\\\python-learn\\\\风控项目\\\\render.html'"
      ]
     },
     "execution_count": 68,
     "metadata": {},
     "output_type": "execute_result"
    }
   ],
   "execution_count": 68
  },
  {
   "metadata": {
    "ExecuteTime": {
     "end_time": "2025-01-13T08:13:47.277618Z",
     "start_time": "2025-01-13T08:13:47.231134Z"
    }
   },
   "cell_type": "code",
   "source": "df2",
   "id": "8faeecbc72820d29",
   "outputs": [
    {
     "data": {
      "text/plain": [
       "         销售  账单状态       账单周期      账单金额      开票金额     实收金额      未收金额  \\\n",
       "1398  s1499   已确认 2018-12-01  158695.0  158695.0      0.0  158695.0   \n",
       "1399  s1500   已确认 2018-12-01  132310.0  132310.0      0.0  132310.0   \n",
       "1400  s1501   已确认 2018-12-01  103570.0  103570.0      0.0  103570.0   \n",
       "1401  s1502   已确认 2018-12-01   55333.0   55333.0      0.0   55333.0   \n",
       "1402  s1503  部分核销 2018-12-01   42710.0   42710.0      0.0   42710.0   \n",
       "...     ...   ...        ...       ...       ...      ...       ...   \n",
       "5249  s5350   已核销 2017-07-01   12450.0   12450.0  12450.0       0.0   \n",
       "5250  s5351   已确认 2017-07-01    1900.0       NaN      0.0       0.0   \n",
       "5251  s5352   已确认 2017-07-01   11500.0       NaN      0.0       0.0   \n",
       "5252  s5353   已确认 2017-07-01   22800.0       NaN      0.0       0.0   \n",
       "5253  s5354   已确认 2017-07-01    6483.0       NaN      0.0       0.0   \n",
       "\n",
       "           预计付款日       应付日期      商务催收日期  账期      实际到账日   开票日期     客服  是否到期  \\\n",
       "1398  2019-05-16 2019-02-28  2019-03-15  60 2019-05-17  03-21  a1599     1   \n",
       "1399  2019-04-05 2019-03-31  2019-04-15  90 2019-05-17  01-17  a1600     1   \n",
       "1400  2019-05-17 2019-02-28  2019-03-15  60 2019-05-17  01-25  a1601     1   \n",
       "1401  2019-05-10 2019-03-31  2019-04-15  90 2019-05-17  03-01  a1602     1   \n",
       "1402  2019-05-16 2019-02-28  2019-03-15  60 2019-04-09  01-30  a1603     1   \n",
       "...          ...        ...         ...  ..        ...    ...    ...   ...   \n",
       "5249  2017-09-30 2017-09-30  2017-10-15  60 2017-10-11  11-07  a5450     1   \n",
       "5250  2017-10-31 2017-10-31  2017-11-15  90 2019-05-17    NaN  a5451     1   \n",
       "5251  2017-09-30 2017-09-30  2017-10-15  60 2019-05-17    NaN  a5452     1   \n",
       "5252  2017-07-31 2017-08-31  2017-09-15  30 2019-05-17    NaN  a5453     1   \n",
       "5253  2017-09-30 2017-09-30  2017-10-15  60 2019-05-17    NaN  a5454     1   \n",
       "\n",
       "         未收金额2  历史逾期天数  当前逾期天数    账单季度  是否到期90天  \n",
       "1398  158695.0      78      78  2018Q4        0  \n",
       "1399  132310.0      47      47  2018Q4        0  \n",
       "1400  103570.0      78      78  2018Q4        0  \n",
       "1401   55333.0      47      47  2018Q4        0  \n",
       "1402   42710.0      78      78  2018Q4        0  \n",
       "...        ...     ...     ...     ...      ...  \n",
       "5249       0.0      11       0  2017Q3        1  \n",
       "5250    1900.0     563     563  2017Q3        1  \n",
       "5251   11500.0     594     594  2017Q3        1  \n",
       "5252   22800.0     624     624  2017Q3        1  \n",
       "5253    6483.0     594     594  2017Q3        1  \n",
       "\n",
       "[3856 rows x 20 columns]"
      ],
      "text/html": [
       "<div>\n",
       "<style scoped>\n",
       "    .dataframe tbody tr th:only-of-type {\n",
       "        vertical-align: middle;\n",
       "    }\n",
       "\n",
       "    .dataframe tbody tr th {\n",
       "        vertical-align: top;\n",
       "    }\n",
       "\n",
       "    .dataframe thead th {\n",
       "        text-align: right;\n",
       "    }\n",
       "</style>\n",
       "<table border=\"1\" class=\"dataframe\">\n",
       "  <thead>\n",
       "    <tr style=\"text-align: right;\">\n",
       "      <th></th>\n",
       "      <th>销售</th>\n",
       "      <th>账单状态</th>\n",
       "      <th>账单周期</th>\n",
       "      <th>账单金额</th>\n",
       "      <th>开票金额</th>\n",
       "      <th>实收金额</th>\n",
       "      <th>未收金额</th>\n",
       "      <th>预计付款日</th>\n",
       "      <th>应付日期</th>\n",
       "      <th>商务催收日期</th>\n",
       "      <th>账期</th>\n",
       "      <th>实际到账日</th>\n",
       "      <th>开票日期</th>\n",
       "      <th>客服</th>\n",
       "      <th>是否到期</th>\n",
       "      <th>未收金额2</th>\n",
       "      <th>历史逾期天数</th>\n",
       "      <th>当前逾期天数</th>\n",
       "      <th>账单季度</th>\n",
       "      <th>是否到期90天</th>\n",
       "    </tr>\n",
       "  </thead>\n",
       "  <tbody>\n",
       "    <tr>\n",
       "      <th>1398</th>\n",
       "      <td>s1499</td>\n",
       "      <td>已确认</td>\n",
       "      <td>2018-12-01</td>\n",
       "      <td>158695.0</td>\n",
       "      <td>158695.0</td>\n",
       "      <td>0.0</td>\n",
       "      <td>158695.0</td>\n",
       "      <td>2019-05-16</td>\n",
       "      <td>2019-02-28</td>\n",
       "      <td>2019-03-15</td>\n",
       "      <td>60</td>\n",
       "      <td>2019-05-17</td>\n",
       "      <td>03-21</td>\n",
       "      <td>a1599</td>\n",
       "      <td>1</td>\n",
       "      <td>158695.0</td>\n",
       "      <td>78</td>\n",
       "      <td>78</td>\n",
       "      <td>2018Q4</td>\n",
       "      <td>0</td>\n",
       "    </tr>\n",
       "    <tr>\n",
       "      <th>1399</th>\n",
       "      <td>s1500</td>\n",
       "      <td>已确认</td>\n",
       "      <td>2018-12-01</td>\n",
       "      <td>132310.0</td>\n",
       "      <td>132310.0</td>\n",
       "      <td>0.0</td>\n",
       "      <td>132310.0</td>\n",
       "      <td>2019-04-05</td>\n",
       "      <td>2019-03-31</td>\n",
       "      <td>2019-04-15</td>\n",
       "      <td>90</td>\n",
       "      <td>2019-05-17</td>\n",
       "      <td>01-17</td>\n",
       "      <td>a1600</td>\n",
       "      <td>1</td>\n",
       "      <td>132310.0</td>\n",
       "      <td>47</td>\n",
       "      <td>47</td>\n",
       "      <td>2018Q4</td>\n",
       "      <td>0</td>\n",
       "    </tr>\n",
       "    <tr>\n",
       "      <th>1400</th>\n",
       "      <td>s1501</td>\n",
       "      <td>已确认</td>\n",
       "      <td>2018-12-01</td>\n",
       "      <td>103570.0</td>\n",
       "      <td>103570.0</td>\n",
       "      <td>0.0</td>\n",
       "      <td>103570.0</td>\n",
       "      <td>2019-05-17</td>\n",
       "      <td>2019-02-28</td>\n",
       "      <td>2019-03-15</td>\n",
       "      <td>60</td>\n",
       "      <td>2019-05-17</td>\n",
       "      <td>01-25</td>\n",
       "      <td>a1601</td>\n",
       "      <td>1</td>\n",
       "      <td>103570.0</td>\n",
       "      <td>78</td>\n",
       "      <td>78</td>\n",
       "      <td>2018Q4</td>\n",
       "      <td>0</td>\n",
       "    </tr>\n",
       "    <tr>\n",
       "      <th>1401</th>\n",
       "      <td>s1502</td>\n",
       "      <td>已确认</td>\n",
       "      <td>2018-12-01</td>\n",
       "      <td>55333.0</td>\n",
       "      <td>55333.0</td>\n",
       "      <td>0.0</td>\n",
       "      <td>55333.0</td>\n",
       "      <td>2019-05-10</td>\n",
       "      <td>2019-03-31</td>\n",
       "      <td>2019-04-15</td>\n",
       "      <td>90</td>\n",
       "      <td>2019-05-17</td>\n",
       "      <td>03-01</td>\n",
       "      <td>a1602</td>\n",
       "      <td>1</td>\n",
       "      <td>55333.0</td>\n",
       "      <td>47</td>\n",
       "      <td>47</td>\n",
       "      <td>2018Q4</td>\n",
       "      <td>0</td>\n",
       "    </tr>\n",
       "    <tr>\n",
       "      <th>1402</th>\n",
       "      <td>s1503</td>\n",
       "      <td>部分核销</td>\n",
       "      <td>2018-12-01</td>\n",
       "      <td>42710.0</td>\n",
       "      <td>42710.0</td>\n",
       "      <td>0.0</td>\n",
       "      <td>42710.0</td>\n",
       "      <td>2019-05-16</td>\n",
       "      <td>2019-02-28</td>\n",
       "      <td>2019-03-15</td>\n",
       "      <td>60</td>\n",
       "      <td>2019-04-09</td>\n",
       "      <td>01-30</td>\n",
       "      <td>a1603</td>\n",
       "      <td>1</td>\n",
       "      <td>42710.0</td>\n",
       "      <td>78</td>\n",
       "      <td>78</td>\n",
       "      <td>2018Q4</td>\n",
       "      <td>0</td>\n",
       "    </tr>\n",
       "    <tr>\n",
       "      <th>...</th>\n",
       "      <td>...</td>\n",
       "      <td>...</td>\n",
       "      <td>...</td>\n",
       "      <td>...</td>\n",
       "      <td>...</td>\n",
       "      <td>...</td>\n",
       "      <td>...</td>\n",
       "      <td>...</td>\n",
       "      <td>...</td>\n",
       "      <td>...</td>\n",
       "      <td>...</td>\n",
       "      <td>...</td>\n",
       "      <td>...</td>\n",
       "      <td>...</td>\n",
       "      <td>...</td>\n",
       "      <td>...</td>\n",
       "      <td>...</td>\n",
       "      <td>...</td>\n",
       "      <td>...</td>\n",
       "      <td>...</td>\n",
       "    </tr>\n",
       "    <tr>\n",
       "      <th>5249</th>\n",
       "      <td>s5350</td>\n",
       "      <td>已核销</td>\n",
       "      <td>2017-07-01</td>\n",
       "      <td>12450.0</td>\n",
       "      <td>12450.0</td>\n",
       "      <td>12450.0</td>\n",
       "      <td>0.0</td>\n",
       "      <td>2017-09-30</td>\n",
       "      <td>2017-09-30</td>\n",
       "      <td>2017-10-15</td>\n",
       "      <td>60</td>\n",
       "      <td>2017-10-11</td>\n",
       "      <td>11-07</td>\n",
       "      <td>a5450</td>\n",
       "      <td>1</td>\n",
       "      <td>0.0</td>\n",
       "      <td>11</td>\n",
       "      <td>0</td>\n",
       "      <td>2017Q3</td>\n",
       "      <td>1</td>\n",
       "    </tr>\n",
       "    <tr>\n",
       "      <th>5250</th>\n",
       "      <td>s5351</td>\n",
       "      <td>已确认</td>\n",
       "      <td>2017-07-01</td>\n",
       "      <td>1900.0</td>\n",
       "      <td>NaN</td>\n",
       "      <td>0.0</td>\n",
       "      <td>0.0</td>\n",
       "      <td>2017-10-31</td>\n",
       "      <td>2017-10-31</td>\n",
       "      <td>2017-11-15</td>\n",
       "      <td>90</td>\n",
       "      <td>2019-05-17</td>\n",
       "      <td>NaN</td>\n",
       "      <td>a5451</td>\n",
       "      <td>1</td>\n",
       "      <td>1900.0</td>\n",
       "      <td>563</td>\n",
       "      <td>563</td>\n",
       "      <td>2017Q3</td>\n",
       "      <td>1</td>\n",
       "    </tr>\n",
       "    <tr>\n",
       "      <th>5251</th>\n",
       "      <td>s5352</td>\n",
       "      <td>已确认</td>\n",
       "      <td>2017-07-01</td>\n",
       "      <td>11500.0</td>\n",
       "      <td>NaN</td>\n",
       "      <td>0.0</td>\n",
       "      <td>0.0</td>\n",
       "      <td>2017-09-30</td>\n",
       "      <td>2017-09-30</td>\n",
       "      <td>2017-10-15</td>\n",
       "      <td>60</td>\n",
       "      <td>2019-05-17</td>\n",
       "      <td>NaN</td>\n",
       "      <td>a5452</td>\n",
       "      <td>1</td>\n",
       "      <td>11500.0</td>\n",
       "      <td>594</td>\n",
       "      <td>594</td>\n",
       "      <td>2017Q3</td>\n",
       "      <td>1</td>\n",
       "    </tr>\n",
       "    <tr>\n",
       "      <th>5252</th>\n",
       "      <td>s5353</td>\n",
       "      <td>已确认</td>\n",
       "      <td>2017-07-01</td>\n",
       "      <td>22800.0</td>\n",
       "      <td>NaN</td>\n",
       "      <td>0.0</td>\n",
       "      <td>0.0</td>\n",
       "      <td>2017-07-31</td>\n",
       "      <td>2017-08-31</td>\n",
       "      <td>2017-09-15</td>\n",
       "      <td>30</td>\n",
       "      <td>2019-05-17</td>\n",
       "      <td>NaN</td>\n",
       "      <td>a5453</td>\n",
       "      <td>1</td>\n",
       "      <td>22800.0</td>\n",
       "      <td>624</td>\n",
       "      <td>624</td>\n",
       "      <td>2017Q3</td>\n",
       "      <td>1</td>\n",
       "    </tr>\n",
       "    <tr>\n",
       "      <th>5253</th>\n",
       "      <td>s5354</td>\n",
       "      <td>已确认</td>\n",
       "      <td>2017-07-01</td>\n",
       "      <td>6483.0</td>\n",
       "      <td>NaN</td>\n",
       "      <td>0.0</td>\n",
       "      <td>0.0</td>\n",
       "      <td>2017-09-30</td>\n",
       "      <td>2017-09-30</td>\n",
       "      <td>2017-10-15</td>\n",
       "      <td>60</td>\n",
       "      <td>2019-05-17</td>\n",
       "      <td>NaN</td>\n",
       "      <td>a5454</td>\n",
       "      <td>1</td>\n",
       "      <td>6483.0</td>\n",
       "      <td>594</td>\n",
       "      <td>594</td>\n",
       "      <td>2017Q3</td>\n",
       "      <td>1</td>\n",
       "    </tr>\n",
       "  </tbody>\n",
       "</table>\n",
       "<p>3856 rows × 20 columns</p>\n",
       "</div>"
      ]
     },
     "execution_count": 69,
     "metadata": {},
     "output_type": "execute_result"
    }
   ],
   "execution_count": 69
  },
  {
   "metadata": {
    "ExecuteTime": {
     "end_time": "2025-01-13T08:27:40.258881Z",
     "start_time": "2025-01-13T08:27:40.238963Z"
    }
   },
   "cell_type": "code",
   "source": "df8 = df2[(df2['未收金额2'] == 0) & (df2['是否到期'] == 1)]",
   "id": "1213f9271e35b0ff",
   "outputs": [],
   "execution_count": 80
  },
  {
   "metadata": {
    "ExecuteTime": {
     "end_time": "2025-01-13T08:27:41.273204Z",
     "start_time": "2025-01-13T08:27:41.259317Z"
    }
   },
   "cell_type": "code",
   "source": "df8['历史逾期天数'].describe()",
   "id": "ac287ef173bc8c0d",
   "outputs": [
    {
     "data": {
      "text/plain": [
       "count    3793.000000\n",
       "mean        4.350910\n",
       "std        43.300838\n",
       "min      -123.000000\n",
       "25%        -8.000000\n",
       "50%        -1.000000\n",
       "75%         8.000000\n",
       "max       471.000000\n",
       "Name: 历史逾期天数, dtype: float64"
      ]
     },
     "execution_count": 81,
     "metadata": {},
     "output_type": "execute_result"
    }
   ],
   "execution_count": 81
  },
  {
   "metadata": {
    "ExecuteTime": {
     "end_time": "2025-01-13T08:27:48.963180Z",
     "start_time": "2025-01-13T08:27:48.945065Z"
    }
   },
   "cell_type": "code",
   "source": "df8['历史逾期天数2'] = pd.cut(df8['历史逾期天数'],bins=[-999,0,7,15,30,60,90,999],labels=['0','1-7','8-15','16-30','31-60','61-90','90+'])",
   "id": "d667de7523e98de",
   "outputs": [
    {
     "name": "stderr",
     "output_type": "stream",
     "text": [
      "C:\\Users\\46901\\AppData\\Local\\Temp\\ipykernel_12624\\18288406.py:1: SettingWithCopyWarning: \n",
      "A value is trying to be set on a copy of a slice from a DataFrame.\n",
      "Try using .loc[row_indexer,col_indexer] = value instead\n",
      "\n",
      "See the caveats in the documentation: https://pandas.pydata.org/pandas-docs/stable/user_guide/indexing.html#returning-a-view-versus-a-copy\n",
      "  df8['历史逾期天数2'] = pd.cut(df8['历史逾期天数'],bins=[-999,0,7,15,30,60,90,999],labels=['0','1-7','8-15','16-30','31-60','61-90','90+'])\n"
     ]
    }
   ],
   "execution_count": 83
  },
  {
   "metadata": {
    "ExecuteTime": {
     "end_time": "2025-01-13T08:27:52.182725Z",
     "start_time": "2025-01-13T08:27:52.167612Z"
    }
   },
   "cell_type": "code",
   "source": "df8['历史逾期天数2'].value_counts()",
   "id": "cbd17bdd9318329",
   "outputs": [
    {
     "data": {
      "text/plain": [
       "历史逾期天数2\n",
       "0        2400\n",
       "1-7       440\n",
       "8-15      368\n",
       "16-30     281\n",
       "31-60     156\n",
       "90+        88\n",
       "61-90      60\n",
       "Name: count, dtype: int64"
      ]
     },
     "execution_count": 84,
     "metadata": {},
     "output_type": "execute_result"
    }
   ],
   "execution_count": 84
  },
  {
   "metadata": {
    "ExecuteTime": {
     "end_time": "2025-01-13T08:31:19.685905Z",
     "start_time": "2025-01-13T08:31:19.668399Z"
    }
   },
   "cell_type": "code",
   "source": [
    "final3 = df8.groupby('历史逾期天数2')[['账期']].count()\n",
    "final3.columns = ['回收账单数']\n",
    "final3"
   ],
   "id": "640dc236da5b938a",
   "outputs": [
    {
     "data": {
      "text/plain": [
       "         回收账单数\n",
       "历史逾期天数2       \n",
       "0         2400\n",
       "1-7        440\n",
       "8-15       368\n",
       "16-30      281\n",
       "31-60      156\n",
       "61-90       60\n",
       "90+         88"
      ],
      "text/html": [
       "<div>\n",
       "<style scoped>\n",
       "    .dataframe tbody tr th:only-of-type {\n",
       "        vertical-align: middle;\n",
       "    }\n",
       "\n",
       "    .dataframe tbody tr th {\n",
       "        vertical-align: top;\n",
       "    }\n",
       "\n",
       "    .dataframe thead th {\n",
       "        text-align: right;\n",
       "    }\n",
       "</style>\n",
       "<table border=\"1\" class=\"dataframe\">\n",
       "  <thead>\n",
       "    <tr style=\"text-align: right;\">\n",
       "      <th></th>\n",
       "      <th>回收账单数</th>\n",
       "    </tr>\n",
       "    <tr>\n",
       "      <th>历史逾期天数2</th>\n",
       "      <th></th>\n",
       "    </tr>\n",
       "  </thead>\n",
       "  <tbody>\n",
       "    <tr>\n",
       "      <th>0</th>\n",
       "      <td>2400</td>\n",
       "    </tr>\n",
       "    <tr>\n",
       "      <th>1-7</th>\n",
       "      <td>440</td>\n",
       "    </tr>\n",
       "    <tr>\n",
       "      <th>8-15</th>\n",
       "      <td>368</td>\n",
       "    </tr>\n",
       "    <tr>\n",
       "      <th>16-30</th>\n",
       "      <td>281</td>\n",
       "    </tr>\n",
       "    <tr>\n",
       "      <th>31-60</th>\n",
       "      <td>156</td>\n",
       "    </tr>\n",
       "    <tr>\n",
       "      <th>61-90</th>\n",
       "      <td>60</td>\n",
       "    </tr>\n",
       "    <tr>\n",
       "      <th>90+</th>\n",
       "      <td>88</td>\n",
       "    </tr>\n",
       "  </tbody>\n",
       "</table>\n",
       "</div>"
      ]
     },
     "execution_count": 86,
     "metadata": {},
     "output_type": "execute_result"
    }
   ],
   "execution_count": 86
  },
  {
   "metadata": {
    "ExecuteTime": {
     "end_time": "2025-01-13T08:32:00.583553Z",
     "start_time": "2025-01-13T08:32:00.559170Z"
    }
   },
   "cell_type": "code",
   "source": [
    "ydata = final3['回收账单数'].values.tolist()\n",
    "bar = (\n",
    "    Bar()\n",
    "    .add_xaxis(list(final3.index.values.tolist()))\n",
    "    .add_yaxis(\"收回账单数\",ydata,yaxis_index=0,color=\"#675bba\")\n",
    "    .set_global_opts(\n",
    "    title_opts=opts.TitleOpts(title=\"不同逾期天数的已收回账单数\"),\n",
    "    )\n",
    ")\n",
    "bar.render()\n"
   ],
   "id": "15f7bd40c5b3db7f",
   "outputs": [
    {
     "data": {
      "text/plain": [
       "'D:\\\\python-learn\\\\风控项目\\\\render.html'"
      ]
     },
     "execution_count": 87,
     "metadata": {},
     "output_type": "execute_result"
    }
   ],
   "execution_count": 87
  },
  {
   "metadata": {},
   "cell_type": "code",
   "outputs": [],
   "execution_count": null,
   "source": "",
   "id": "c8c6a9c1e62f9555"
  }
 ],
 "metadata": {
  "kernelspec": {
   "display_name": "Python 3",
   "language": "python",
   "name": "python3"
  },
  "language_info": {
   "codemirror_mode": {
    "name": "ipython",
    "version": 2
   },
   "file_extension": ".py",
   "mimetype": "text/x-python",
   "name": "python",
   "nbconvert_exporter": "python",
   "pygments_lexer": "ipython2",
   "version": "2.7.6"
  }
 },
 "nbformat": 4,
 "nbformat_minor": 5
}
